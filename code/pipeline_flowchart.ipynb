{
 "cells": [
  {
   "cell_type": "code",
   "execution_count": 2,
   "id": "373925aa-d7e3-4548-bbeb-dee943c98890",
   "metadata": {
    "tags": []
   },
   "outputs": [],
   "source": [
    "import base64\n",
    "from IPython.display import Image, display\n",
    "import matplotlib.pyplot as plt\n",
    "\n",
    "def mm(graph):\n",
    "  graphbytes = graph.encode(\"ascii\")\n",
    "  base64_bytes = base64.b64encode(graphbytes)\n",
    "  base64_string = base64_bytes.decode(\"ascii\")\n",
    "  display(Image(url=\"https://mermaid.ink/img/\" + base64_string))\n",
    "  # print(\"https://mermaid.ink/img/\" + base64_string)"
   ]
  },
  {
   "cell_type": "code",
   "execution_count": 3,
   "id": "d9ae568d-920d-4b7f-9ee2-80ca575eb91a",
   "metadata": {
    "tags": []
   },
   "outputs": [
    {
     "data": {
      "text/html": [
       "<img src=\"https://mermaid.ink/img/CiAgICBmbG93Y2hhcnQgVEQKICAgIEFbUFMxIERhdGEgUHJvY2Vzc2VkICYgRXh0ZW5kZWQgU291cmNlcyBJZGVudGlmaWVkXSAtLT4gQltERiBvZiBFeHRlbmRlZCBTb3VyY2VzXQogICAgQVBBU1NbKEFQQVNTKV0gLS0+IENbQ3Jvc3NNYXRjaGVkIERGIG9mIEJyaWdodCBTdGFycyBMZW4gTl0KICAgIFRZQ0hPWyhUWUNITyldIC0tPiBDCiAgICBCIC0tPiBEW2k9MF0KICAgIEMgLS0+IEQKICAgIEQgLS0+IEV7aT09Tj99CiAgICBFIC0tPiB8Tm98IEZbR2V0IFJBLCBEZWMsIE1hZ25pdHVkZSBvZiBCcmlnaHQgU3RhciBpXQogICAgRSAtLT4gfFllc3wgRzJbUmV0dXJuIE1hc2tlZCBQUzEgRGF0YV0KICAgIEYgLS0+IEdbW0dldFN0YXJNYXNrU2l6ZV1dCiAgICBHIC0tPiBIW1tQcm94aW1pdHlTZWFyY2ggUFMxIERhdGEgd2l0aGluIE1hc2sgU2l6ZSBvZiBTdGFyXV0gCiAgICBIIC0tPiBJW1JlbW92ZSBTb3VyY2VzIGluIHRoaXMgQXJlYV0KICAgIEkgLS0+IEUKICAgIEcyIC0tPiBFbmQKICAgIHN1YmdyYXBoIEdldFN0YXJNYXNrU2l6ZQogICAgYTFbU3RhciBNYWduaXR1ZGVdIC0tPiBiMVtDb3JyZXNwb25kaW5nIE1hc2sgU2l6ZSBGcm9tIFBhcmFib2xhXQogICAgYjEgLS0+IGMxW1JldHVybl0KICAgIGVuZAogICAg\"/>"
      ],
      "text/plain": [
       "<IPython.core.display.Image object>"
      ]
     },
     "metadata": {},
     "output_type": "display_data"
    }
   ],
   "source": [
    "mm(\"\"\"\n",
    "    flowchart TD\n",
    "    A[PS1 Data Processed & Extended Sources Identified] --> B[DF of Extended Sources]\n",
    "    APASS[(APASS)] --> C[CrossMatched DF of Bright Stars Len N]\n",
    "    TYCHO[(TYCHO)] --> C\n",
    "    B --> D[i=0]\n",
    "    C --> D\n",
    "    D --> E{i==N?}\n",
    "    E --> |No| F[Get RA, Dec, Magnitude of Bright Star i]\n",
    "    E --> |Yes| G2[Return Masked PS1 Data]\n",
    "    F --> G[[GetStarMaskSize]]\n",
    "    G --> H[[ProximitySearch PS1 Data within Mask Size of Star]] \n",
    "    H --> I[Remove Sources in this Area]\n",
    "    I --> E\n",
    "    G2 --> End\n",
    "    subgraph GetStarMaskSize\n",
    "    a1[Star Magnitude] --> b1[Corresponding Mask Size From Parabola]\n",
    "    b1 --> c1[Return]\n",
    "    end\n",
    "    \"\"\")"
   ]
  },
  {
   "cell_type": "code",
   "execution_count": 4,
   "id": "11a6c143-7ea0-430f-9eb7-86512b86bc07",
   "metadata": {
    "tags": []
   },
   "outputs": [
    {
     "data": {
      "text/html": [
       "<img src=\"https://mermaid.ink/img/CiAgICBmbG93Y2hhcnQgVEQKICAgIEEoW1N0YXJ0XSkgLS0+IEJbRm9yIFNxdWFyZSBEZWdyZWUKIGluIFNreV0gCiAgICBCIC0tPiBDW1F1ZXJ5IEFyZWEgZm9yIEFsbCBQYW4tU1RBUlJTIERldGVjdGlvbnMgYW5kIEFzc29jaWF0ZWQgRGF0YV0KICAgIFBTMVsoUGFuLVNUQVJSUwogRGF0YWJhc2UpXSAtLT4gQwogICAgQyAtLT4gRFtEcm9wIERldGVjdGlvbnMgd2l0aAogbm8gciBCYW5kIE1lYXN1cmVtZW50c10KICAgIEQgLS0+IEVbS2VlcCBEZXRlY3Rpb25zIHdpdGgKIHIgQmFuZCBNZWFzdXJlbWVudHMgQmV0d2VlbgogMTd0aCBhbmQgMjB0aCBNYWduaXR1ZGVdCiAgICBFIC0tPiBGW0Ryb3AgRHVwbGljYXRlCiBhbmQgTm9uLVByaW1hcnkgRGF0YV0KICAgIEYgLS0+IEdbS2VlcCBEZXRlY3Rpb25zIGlmCiBEYXRhIFNpZ25pZmllcyBDb25maWRlbmNlCiBHcmVhdGVyIHRoYW4gNSBTaWdtYV0KICAgIEcgLS0+IEhbTWFzayBFeHRlbmRlZAogU291cmNlcyBpZiBFY2xpcHNlZAogYnkgQnJpZ2h0IFN0YXJdCiAgICBJW0Nyb3NzLU1hdGNoCiBCcmlnaHQgU3RhciBDYXRhbG9ndWVzCiBmb3IgQ29tcGxldGVuZXNzXSAtLT4gSAogICAgVFlDSE9bKEJyaWdodCBTdGFyCiBEYXRhYmFzZSwgVFlDSE8pXSAtLT4gSQogICAgQVBBU1NbKEJyaWdodCBTdGFyCiBEYXRhYmFzZSwgQVBBU1MpXSAtLT4gSQogICAgSExFREFbKE5lYXJieSBHYWxheHkKIERhdGFiYXNlLCBITEVEQSldIC0tPiBKW01hc2sgRXh0ZW5kZWQgU291cmNlcwogaWYgaW5zaWRlIFdlbGwKIFJlc29sdmVkLCBLbm93biBHYWxheHldCiAgICBIIC0tPiBKCiAgICBKIC0tPiBLW0RhdGEgQ2xlYW5pbmcsCiBQcm9jZXNzaW5nIGFuZCBQcmVwYXJhdGlvbgogZm9yIE1hY2hpbmUgTGVhcm5pbmcgTW9kZWxdCiAgICBLIC0tPiBMW0dlbmVyYXRlIFBob3RvbWV0cmljCiBSZWRzaGlmdCBQcmVkaWN0aW9uc10KICAgIEwgLS0+IENOR0ZQUFJbKENOR0ZQUFIsIENhdGFsb2d1ZSBvZgogTmVhcmJ5IEdhbGF4aWVzIHdpdGgKIEZ1bGwgUG9zdGVyaW9ycyBvbiAKdGhlaXIgUGhvdG9tZXRyaWMgUmVkc2hpZnRzKV0KICAgIENOR0ZQUFIgLS0+IE4oW0VuZF0pCiAgICA=\"/>"
      ],
      "text/plain": [
       "<IPython.core.display.Image object>"
      ]
     },
     "metadata": {},
     "output_type": "display_data"
    }
   ],
   "source": [
    "mm(\"\"\"\n",
    "    flowchart TD\n",
    "    A([Start]) --> B[For Square Degree\\n in Sky] \n",
    "    B --> C[Query Area for All Pan-STARRS Detections and Associated Data]\n",
    "    PS1[(Pan-STARRS\\n Database)] --> C\n",
    "    C --> D[Drop Detections with\\n no r Band Measurements]\n",
    "    D --> E[Keep Detections with\\n r Band Measurements Between\\n 17th and 20th Magnitude]\n",
    "    E --> F[Drop Duplicate\\n and Non-Primary Data]\n",
    "    F --> G[Keep Detections if\\n Data Signifies Confidence\\n Greater than 5 Sigma]\n",
    "    G --> H[Mask Extended\\n Sources if Eclipsed\\n by Bright Star]\n",
    "    I[Cross-Match\\n Bright Star Catalogues\\n for Completeness] --> H\n",
    "    TYCHO[(Bright Star\\n Database, TYCHO)] --> I\n",
    "    APASS[(Bright Star\\n Database, APASS)] --> I\n",
    "    HLEDA[(Nearby Galaxy\\n Database, HLEDA)] --> J[Mask Extended Sources\\n if inside Well\\n Resolved, Known Galaxy]\n",
    "    H --> J\n",
    "    J --> K[Data Cleaning,\\n Processing and Preparation\\n for Machine Learning Model]\n",
    "    K --> L[Generate Photometric\\n Redshift Predictions]\n",
    "    L --> CNGFPPR[(CNGFPPR, Catalogue of\\n Nearby Galaxies with\\n Full Posteriors on \\ntheir Photometric Redshifts)]\n",
    "    CNGFPPR --> N([End])\n",
    "    \"\"\")"
   ]
  },
  {
   "cell_type": "code",
   "execution_count": 50,
   "id": "d3d10ed0-5dc8-4d21-b228-694332c0db6d",
   "metadata": {
    "tags": []
   },
   "outputs": [
    {
     "data": {
      "text/html": [
       "<img src=\"https://mermaid.ink/img/CiAgICBmbG93Y2hhcnQgTFIKICAgIEEoW1N0YXJ0XSkgLS0+IEJbRm9yIFNxdWFyZSBEZWdyZWUKIGluIFNreV0gCiAgICBCIC0tPiBDW1F1ZXJ5IEFyZWEgZm9yIEFsbCBQYW4tU1RBUlJTIERldGVjdGlvbnMgYW5kIEFzc29jaWF0ZWQgRGF0YV0KICAgIFBTMVsoUGFuLVNUQVJSUwogRGF0YWJhc2UpXSAtLT4gQwogICAgQyAtLT4gRFtEcm9wIERldGVjdGlvbnMgd2l0aAogbm8gciBCYW5kIE1lYXN1cmVtZW50c10KICAgIEQgLS0+IEVbS2VlcCBEZXRlY3Rpb25zIHdpdGgKIHIgQmFuZCBNZWFzdXJlbWVudHMgQmV0d2VlbgogMTd0aCBhbmQgMjB0aCBNYWduaXR1ZGVdCiAgICBFIC0tPiBGW0Ryb3AgRHVwbGljYXRlCiBhbmQgTm9uLVByaW1hcnkgRGF0YV0KICAgIEYgLS0+IEdbS2VlcCBEZXRlY3Rpb25zIGlmCiBEYXRhIFNpZ25pZmllcyBDb25maWRlbmNlCiBHcmVhdGVyIHRoYW4gNSBTaWdtYV0KICAgIEcgLS0+IEhbTWFzayBFeHRlbmRlZAogU291cmNlcyBpZiBFY2xpcHNlZAogYnkgQnJpZ2h0IFN0YXJdCiAgICBJW0Nyb3NzLU1hdGNoCiBCcmlnaHQgU3RhciBDYXRhbG9ndWVzCiBmb3IgQ29tcGxldGVuZXNzXSAtLT4gSAogICAgVFlDSE9bKEJyaWdodCBTdGFyCiBEYXRhYmFzZSwgVFlDSE8pXSAtLT4gSQogICAgQVBBU1NbKEJyaWdodCBTdGFyCiBEYXRhYmFzZSwgQVBBU1MpXSAtLT4gSQogICAgSExFREFbKE5lYXJieSBHYWxheHkKIERhdGFiYXNlLCBITEVEQSldIC0tPiBKW01hc2sgRXh0ZW5kZWQgU291cmNlcwogaWYgaW5zaWRlIFdlbGwKIFJlc29sdmVkLCBLbm93biBHYWxheHldCiAgICBIIC0tPiBKCiAgICBKIC0tPiBLW0RhdGEgQ2xlYW5pbmcsCiBQcm9jZXNzaW5nIGFuZCBQcmVwYXJhdGlvbgogZm9yIE1hY2hpbmUgTGVhcm5pbmcgTW9kZWxdCiAgICBLIC0tPiBMW0dlbmVyYXRlIFBob3RvbWV0cmljCiBSZWRzaGlmdCBQcmVkaWN0aW9uc10KICAgIEwgLS0+IE1bU3RvcmUgRGF0YV0KICAgIE0gLS0+IENOR0ZQUFJbKENOR0ZQUFIsIENhdGFsb2d1ZSBvZgogTmVhcmJ5IEdhbGF4aWVzIHdpdGgKIEZ1bGwgUG9zdGVyaW9ycyBvbiAKdGhlaXIgUGhvdG9tZXRyaWMgUmVkc2hpZnRzKV0KICAgIENOR0ZQUFIgLS0+IE4oW0VuZF0pCiAgICA=\"/>"
      ],
      "text/plain": [
       "<IPython.core.display.Image object>"
      ]
     },
     "metadata": {},
     "output_type": "display_data"
    }
   ],
   "source": [
    "mm(\"\"\"\n",
    "    flowchart LR\n",
    "    A([Start]) --> B[For Square Degree\\n in Sky] \n",
    "    B --> C[Query Area for All Pan-STARRS Detections and Associated Data]\n",
    "    PS1[(Pan-STARRS\\n Database)] --> C\n",
    "    C --> D[Drop Detections with\\n no r Band Measurements]\n",
    "    D --> E[Keep Detections with\\n r Band Measurements Between\\n 17th and 20th Magnitude]\n",
    "    E --> F[Drop Duplicate\\n and Non-Primary Data]\n",
    "    F --> G[Keep Detections if\\n Data Signifies Confidence\\n Greater than 5 Sigma]\n",
    "    G --> H[Mask Extended\\n Sources if Eclipsed\\n by Bright Star]\n",
    "    I[Cross-Match\\n Bright Star Catalogues\\n for Completeness] --> H\n",
    "    TYCHO[(Bright Star\\n Database, TYCHO)] --> I\n",
    "    APASS[(Bright Star\\n Database, APASS)] --> I\n",
    "    HLEDA[(Nearby Galaxy\\n Database, HLEDA)] --> J[Mask Extended Sources\\n if inside Well\\n Resolved, Known Galaxy]\n",
    "    H --> J\n",
    "    J --> K[Data Cleaning,\\n Processing and Preparation\\n for Machine Learning Model]\n",
    "    K --> L[Generate Photometric\\n Redshift Predictions]\n",
    "    L --> M[Store Data]\n",
    "    M --> CNGFPPR[(CNGFPPR, Catalogue of\\n Nearby Galaxies with\\n Full Posteriors on \\ntheir Photometric Redshifts)]\n",
    "    CNGFPPR --> N([End])\n",
    "    \"\"\")"
   ]
  },
  {
   "cell_type": "code",
   "execution_count": 45,
   "id": "31a70ef9-2606-4b4a-bfa4-e95160f34ac3",
   "metadata": {
    "tags": []
   },
   "outputs": [
    {
     "data": {
      "text/html": [
       "<img src=\"https://mermaid.ink/img/CiAgICBmbG93Y2hhcnQgTFIKICAgIEEoW1N0YXJ0XSkgLS0+IEJbRm9yIFNxdWFyZSBEZWdyZWUKIGluIFNreV0gCiAgICBCIC0tPiBDW1F1ZXJ5IEFyZWEgZm9yIEFsbCBQYW4tU1RBUlJTIERldGVjdGlvbnMgYW5kIEFzc29jaWF0ZWQgRGF0YV0KICAgIFBTMVsoUGFuLVNUQVJSUwogRGF0YWJhc2UpXSAtLT4gQwogICAgQyAtLT4gRFtEcm9wIERldGVjdGlvbnMgd2l0aAogbm8gciBCYW5kIE1lYXN1cmVtZW50c10KICAgIEQgLS0+IEVbS2VlcCBEZXRlY3Rpb25zIHdpdGgKIHIgQmFuZCBNZWFzdXJlbWVudHMgQmV0d2VlbgogMTd0aCBhbmQgMjB0aCBNYWduaXR1ZGVdCiAgICBFIC0tPiBGW0Ryb3AgRHVwbGljYXRlCiBhbmQgTm9uLVByaW1hcnkgRGF0YV0KICAgIEYgLS0+IEdbS2VlcCBEZXRlY3Rpb25zIGlmCiBEYXRhIFNpZ25pZmllcyBDb25maWRlbmNlCiBHcmVhdGVyIHRoYW4gNSBTaWdtYV0KICAgIEcgLS0+IGNvbnRpbnVlKChGbG93Y2hhcnQgQ29udGludWVzIEJlbG93KSkKICAgIA==\"/>"
      ],
      "text/plain": [
       "<IPython.core.display.Image object>"
      ]
     },
     "metadata": {},
     "output_type": "display_data"
    }
   ],
   "source": [
    "mm(\"\"\"\n",
    "    flowchart LR\n",
    "    A([Start]) --> B[For Square Degree\\n in Sky] \n",
    "    B --> C[Query Area for All Pan-STARRS Detections and Associated Data]\n",
    "    PS1[(Pan-STARRS\\n Database)] --> C\n",
    "    C --> D[Drop Detections with\\n no r Band Measurements]\n",
    "    D --> E[Keep Detections with\\n r Band Measurements Between\\n 17th and 20th Magnitude]\n",
    "    E --> F[Drop Duplicate\\n and Non-Primary Data]\n",
    "    F --> G[Keep Detections if\\n Data Signifies Confidence\\n Greater than 5 Sigma]\n",
    "    G --> continue((Flowchart Continues Below))\n",
    "    \"\"\")"
   ]
  },
  {
   "cell_type": "code",
   "execution_count": 46,
   "id": "0bee899e-95bc-4ee5-a9b1-e22b8ea11c2c",
   "metadata": {
    "tags": []
   },
   "outputs": [
    {
     "data": {
      "text/html": [
       "<img src=\"https://mermaid.ink/img/CiAgICBmbG93Y2hhcnQgTFIKICAgIGNvbnRpbnVlKCgiYEZsb3djaGFydCBDb250aW51ZXMgSGVyZWAiKSkgLS0+IEhbTWFzayBFeHRlbmRlZAogU291cmNlcyBpZiBFY2xpcHNlZAogYnkgQnJpZ2h0IFN0YXJdCiAgICBJW0Nyb3NzLU1hdGNoCiBCcmlnaHQgU3RhciBDYXRhbG9ndWVzCiBmb3IgQ29tcGxldGVuZXNzXSAtLT4gSAogICAgVFlDSE9bKEJyaWdodCBTdGFyCiBEYXRhYmFzZSwgVFlDSE8pXSAtLT4gSQogICAgQVBBU1NbKEJyaWdodCBTdGFyCiBEYXRhYmFzZSwgQVBBU1MpXSAtLT4gSQogICAgSExFREFbKE5lYXJieSBHYWxheHkKIERhdGFiYXNlLCBITEVEQSldIC0tPiBKW01hc2sgRXh0ZW5kZWQgU291cmNlcwogaWYgaW5zaWRlIFdlbGwKIFJlc29sdmVkLCBLbm93biBHYWxheHldCiAgICBIIC0tPiBKCiAgICBKIC0tPiBLW0RhdGEgQ2xlYW5pbmcsCiBQcm9jZXNzaW5nIGFuZCBQcmVwYXJhdGlvbgogZm9yIE1hY2hpbmUgTGVhcm5pbmcgTW9kZWxdCiAgICBLIC0tPiBMW0dlbmVyYXRlIFBob3RvbWV0cmljCiBSZWRzaGlmdCBQcmVkaWN0aW9uc10KICAgIEwgLS0+IE1bU3RvcmUgRGF0YV0KICAgIE0gLS0+IENOR0ZQUFJbKENOR0ZQUFIsIENhdGFsb2d1ZSBvZgogTmVhcmJ5IEdhbGF4aWVzIHdpdGgKIEZ1bGwgUG9zdGVyaW9ycyBvbiAKdGhlaXIgUGhvdG9tZXRyaWMgUmVkc2hpZnRzKV0KICAgIENOR0ZQUFIgLS0+IE4oW0VuZF0pCiAgICA=\"/>"
      ],
      "text/plain": [
       "<IPython.core.display.Image object>"
      ]
     },
     "metadata": {},
     "output_type": "display_data"
    }
   ],
   "source": [
    "mm(\"\"\"\n",
    "    flowchart LR\n",
    "    continue((\"`Flowchart Continues Here`\")) --> H[Mask Extended\\n Sources if Eclipsed\\n by Bright Star]\n",
    "    I[Cross-Match\\n Bright Star Catalogues\\n for Completeness] --> H\n",
    "    TYCHO[(Bright Star\\n Database, TYCHO)] --> I\n",
    "    APASS[(Bright Star\\n Database, APASS)] --> I\n",
    "    HLEDA[(Nearby Galaxy\\n Database, HLEDA)] --> J[Mask Extended Sources\\n if inside Well\\n Resolved, Known Galaxy]\n",
    "    H --> J\n",
    "    J --> K[Data Cleaning,\\n Processing and Preparation\\n for Machine Learning Model]\n",
    "    K --> L[Generate Photometric\\n Redshift Predictions]\n",
    "    L --> M[Store Data]\n",
    "    M --> CNGFPPR[(CNGFPPR, Catalogue of\\n Nearby Galaxies with\\n Full Posteriors on \\ntheir Photometric Redshifts)]\n",
    "    CNGFPPR --> N([End])\n",
    "    \"\"\")"
   ]
  },
  {
   "cell_type": "code",
   "execution_count": null,
   "id": "0b9995be-6c1a-4191-8152-da50c34d0f80",
   "metadata": {},
   "outputs": [],
   "source": []
  }
 ],
 "metadata": {
  "kernelspec": {
   "display_name": "Python 3 (ipykernel)",
   "language": "python",
   "name": "python3"
  },
  "language_info": {
   "codemirror_mode": {
    "name": "ipython",
    "version": 3
   },
   "file_extension": ".py",
   "mimetype": "text/x-python",
   "name": "python",
   "nbconvert_exporter": "python",
   "pygments_lexer": "ipython3",
   "version": "3.10.12"
  }
 },
 "nbformat": 4,
 "nbformat_minor": 5
}
