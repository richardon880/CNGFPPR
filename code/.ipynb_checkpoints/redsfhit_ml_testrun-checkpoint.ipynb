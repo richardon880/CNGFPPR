{
 "cells": [
  {
   "cell_type": "code",
   "execution_count": 1,
   "id": "807a68a3-71ff-4073-aa5e-6ce5281b25f5",
   "metadata": {
    "tags": []
   },
   "outputs": [],
   "source": [
    "import redshiftpredictor as rp\n",
    "import astroFuncs as af"
   ]
  },
  {
   "cell_type": "code",
   "execution_count": 2,
   "id": "72621a54-4add-4b21-b927-851d708ccb33",
   "metadata": {
    "tags": []
   },
   "outputs": [
    {
     "name": "stdin",
     "output_type": "stream",
     "text": [
      "Enter Casjobs username: richardon\n",
      "Enter Casjobs password: ········\n"
     ]
    }
   ],
   "source": [
    "af.mastcasjobs_init()"
   ]
  },
  {
   "cell_type": "code",
   "execution_count": 3,
   "id": "55dcc056-25f7-4728-80c3-8f04877db51b",
   "metadata": {
    "tags": []
   },
   "outputs": [],
   "source": [
    "ra = 40\n",
    "dec = 40\n",
    "rad = 0.5642\n",
    "tablename = \"redshift_prediction_testrun\"\n"
   ]
  },
  {
   "cell_type": "code",
   "execution_count": 4,
   "id": "98b4b12d-9db0-48b6-9558-7eb1678ff315",
   "metadata": {
    "tags": []
   },
   "outputs": [],
   "source": [
    "# ps1_data = af.search_circ_region(ra, dec, rad, table_name=tablename)\n",
    "ps1_data = af.retrieve_table(tablename)\n",
    "bright_stars = af.search_bright_stars(ra, dec, rad)\n",
    "resolved_gals = af.search_hleda(ra, dec, rad)"
   ]
  },
  {
   "cell_type": "code",
   "execution_count": 5,
   "id": "e2ce8745-5685-4a95-a803-df49ff4a55ab",
   "metadata": {
    "tags": []
   },
   "outputs": [
    {
     "name": "stderr",
     "output_type": "stream",
     "text": [
      "100%|█████████████████████████████████████████| 606/606 [00:46<00:00, 12.93it/s]\n",
      "100%|███████████████████████████████████████████| 26/26 [00:02<00:00, 10.51it/s]\n"
     ]
    },
    {
     "name": "stdout",
     "output_type": "stream",
     "text": [
      "Generating Predictions\n"
     ]
    }
   ],
   "source": [
    "cdes, zgrid = rp.generate_redshift_predictions(ps1_data,\n",
    "                                               bright_stars,\n",
    "                                               resolved_gals,\n",
    "                                               n_grid=1000)"
   ]
  },
  {
   "cell_type": "code",
   "execution_count": 6,
   "id": "10522bfd-0b34-4820-92bc-729e950c12fc",
   "metadata": {
    "tags": []
   },
   "outputs": [
    {
     "data": {
      "text/plain": [
       "1794"
      ]
     },
     "execution_count": 6,
     "metadata": {},
     "output_type": "execute_result"
    }
   ],
   "source": [
    "len(cdes)"
   ]
  }
 ],
 "metadata": {
  "kernelspec": {
   "display_name": "Python 3 (ipykernel)",
   "language": "python",
   "name": "python3"
  },
  "language_info": {
   "codemirror_mode": {
    "name": "ipython",
    "version": 3
   },
   "file_extension": ".py",
   "mimetype": "text/x-python",
   "name": "python",
   "nbconvert_exporter": "python",
   "pygments_lexer": "ipython3",
   "version": "3.10.9"
  }
 },
 "nbformat": 4,
 "nbformat_minor": 5
}
