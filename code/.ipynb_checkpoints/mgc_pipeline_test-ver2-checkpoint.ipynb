{
 "cells": [
  {
   "cell_type": "markdown",
   "id": "c37ebaf9-5dd2-42df-b4e2-a93470608867",
   "metadata": {},
   "source": [
    "### MGC (Millenium Galaxy Catalogue) vs CNGFPPR (Catalogue Nearby Galaxies with Full Posteriors on Photometric Redshfits) Comparison"
   ]
  },
  {
   "cell_type": "markdown",
   "id": "8f42f622-0cff-47fc-949c-5f6338c5a24f",
   "metadata": {},
   "source": [
    "More info on MGC - https://hsweb.hs.uni-hamburg.de/projects/observational-astronomy/mgc/"
   ]
  },
  {
   "cell_type": "markdown",
   "id": "2bfc1978-a50f-4912-ac1f-965c311cf572",
   "metadata": {
    "tags": []
   },
   "source": [
    " - Compare catalog to MGC. Completness (do we find all the galaxies in MGC), purity (is there a lot of crap in our catalog that is not in MGC and which is not real), accuracy (do our z agree with MGC, and are the MGC z within 95% of the PDF).\n",
    "\n",
    " - x-match MGC and PS1 cat, what is the reason for things that are in former but not latter and vice versa. Look at cutouts.\n"
   ]
  },
  {
   "cell_type": "code",
   "execution_count": 2,
   "id": "3de61197-29d0-4367-9d81-f2ce06f678f6",
   "metadata": {
    "tags": []
   },
   "outputs": [],
   "source": [
    "# import mgc zcat\n",
    "# filter between 17 & 20 mag\n",
    "# compare numbers between cngfppr and zcat\n",
    "    # same no of gals?\n",
    "    # predicted redshift vs real redshift distribution\n",
    "    \n",
    "#  xmatch\n",
    "    # find stuff in both cats (good)\n",
    "    # find stuff in cngfppr but not mgc (what is it?)\n",
    "    # stuff in mgc but not cngfppr\n",
    "        #look at cutouts\n",
    "    # how accurate are the xmatched redshifts?\n",
    "        # do our z agree and are mgc within 95% of CDE\n",
    "    "
   ]
  },
  {
   "cell_type": "code",
   "execution_count": null,
   "id": "76cdb76d-1f23-4be5-8a7a-ca723b9852f5",
   "metadata": {},
   "outputs": [],
   "source": []
  }
 ],
 "metadata": {
  "kernelspec": {
   "display_name": "Python 3 (ipykernel)",
   "language": "python",
   "name": "python3"
  },
  "language_info": {
   "codemirror_mode": {
    "name": "ipython",
    "version": 3
   },
   "file_extension": ".py",
   "mimetype": "text/x-python",
   "name": "python",
   "nbconvert_exporter": "python",
   "pygments_lexer": "ipython3",
   "version": "3.11.4"
  }
 },
 "nbformat": 4,
 "nbformat_minor": 5
}
