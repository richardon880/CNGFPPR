{
 "cells": [
  {
   "cell_type": "code",
   "execution_count": 98,
   "id": "373925aa-d7e3-4548-bbeb-dee943c98890",
   "metadata": {},
   "outputs": [],
   "source": [
    "import base64\n",
    "from IPython.display import Image, display\n",
    "import matplotlib.pyplot as plt\n",
    "\n",
    "def mm(graph):\n",
    "  graphbytes = graph.encode(\"ascii\")\n",
    "  base64_bytes = base64.b64encode(graphbytes)\n",
    "  base64_string = base64_bytes.decode(\"ascii\")\n",
    "  display(Image(url=\"https://mermaid.ink/img/\" + base64_string))\n",
    "  # print(\"https://mermaid.ink/img/\" + base64_string)"
   ]
  },
  {
   "cell_type": "code",
   "execution_count": null,
   "id": "c8fb3551-7f4e-477b-80b3-c4efb532d40c",
   "metadata": {},
   "outputs": [],
   "source": []
  },
  {
   "cell_type": "code",
   "execution_count": 105,
   "id": "d9ae568d-920d-4b7f-9ee2-80ca575eb91a",
   "metadata": {},
   "outputs": [
    {
     "data": {
      "text/html": [
       "<img src=\"https://mermaid.ink/img/CiAgICBmbG93Y2hhcnQgVEQKICAgIEFbUFMxIERhdGEgUHJvY2Vzc2VkICYgRXh0ZW5kZWQgU291cmNlcyBJZGVudGlmaWVkXSAtLT4gQltERiBvZiBFeHRlbmRlZCBTb3VyY2VzXQogICAgQVBBU1NbKEFQQVNTKV0gLS0+IENbQ3Jvc3NNYXRjaGVkIERGIG9mIEJyaWdodCBTdGFycyBMZW4gTl0KICAgIFRZQ0hPWyhUWUNITyldIC0tPiBDCiAgICBCIC0tPiBEW2k9MF0KICAgIEMgLS0+IEQKICAgIEQgLS0+IEV7aT09Tj99CiAgICBFIC0tPiB8Tm98IEZbR2V0IFJBLCBEZWMsIE1hZ25pdHVkZSBvZiBCcmlnaHQgU3RhciBpXQogICAgRSAtLT4gfFllc3wgRzJbUmV0dXJuIE1hc2tlZCBQUzEgRGF0YV0KICAgIEYgLS0+IEdbW0dldFN0YXJNYXNrU2l6ZV1dCiAgICBHIC0tPiBIW1tQcm94aW1pdHlTZWFyY2ggUFMxIERhdGEgd2l0aGluIE1hc2sgU2l6ZSBvZiBTdGFyXV0gCiAgICBIIC0tPiBJW1JlbW92ZSBTb3VyY2VzIGluIHRoaXMgQXJlYV0KICAgIEkgLS0+IEUKICAgIEcyIC0tPiBFbmQKICAgIHN1YmdyYXBoIEdldFN0YXJNYXNrU2l6ZQogICAgYTFbU3RhciBNYWduaXR1ZGVdIC0tPiBiMVtDb3JyZXNwb25kaW5nIE1hc2sgU2l6ZSBGcm9tIFBhcmFib2xhXQogICAgYjEgLS0+IGMxW1JldHVybl0KICAgIGVuZAogICAg\"/>"
      ],
      "text/plain": [
       "<IPython.core.display.Image object>"
      ]
     },
     "metadata": {},
     "output_type": "display_data"
    }
   ],
   "source": [
    "mm(\"\"\"\n",
    "    flowchart TD\n",
    "    A[PS1 Data Processed & Extended Sources Identified] --> B[DF of Extended Sources]\n",
    "    APASS[(APASS)] --> C[CrossMatched DF of Bright Stars Len N]\n",
    "    TYCHO[(TYCHO)] --> C\n",
    "    B --> D[i=0]\n",
    "    C --> D\n",
    "    D --> E{i==N?}\n",
    "    E --> |No| F[Get RA, Dec, Magnitude of Bright Star i]\n",
    "    E --> |Yes| G2[Return Masked PS1 Data]\n",
    "    F --> G[[GetStarMaskSize]]\n",
    "    G --> H[[ProximitySearch PS1 Data within Mask Size of Star]] \n",
    "    H --> I[Remove Sources in this Area]\n",
    "    I --> E\n",
    "    G2 --> End\n",
    "    subgraph GetStarMaskSize\n",
    "    a1[Star Magnitude] --> b1[Corresponding Mask Size From Parabola]\n",
    "    b1 --> c1[Return]\n",
    "    end\n",
    "    \"\"\")"
   ]
  },
  {
   "cell_type": "code",
   "execution_count": null,
   "id": "11a6c143-7ea0-430f-9eb7-86512b86bc07",
   "metadata": {},
   "outputs": [],
   "source": []
  }
 ],
 "metadata": {
  "kernelspec": {
   "display_name": "Python 3 (ipykernel)",
   "language": "python",
   "name": "python3"
  },
  "language_info": {
   "codemirror_mode": {
    "name": "ipython",
    "version": 3
   },
   "file_extension": ".py",
   "mimetype": "text/x-python",
   "name": "python",
   "nbconvert_exporter": "python",
   "pygments_lexer": "ipython3",
   "version": "3.10.9"
  }
 },
 "nbformat": 4,
 "nbformat_minor": 5
}
