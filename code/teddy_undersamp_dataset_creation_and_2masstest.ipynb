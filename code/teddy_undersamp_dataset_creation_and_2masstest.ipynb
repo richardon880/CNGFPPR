{
 "cells": [
  {
   "cell_type": "code",
   "execution_count": 28,
   "id": "d8ab4379-fed3-4a00-8f28-152fe4eb444e",
   "metadata": {},
   "outputs": [],
   "source": [
    "import pandas as pd\n",
    "import numpy as np\n",
    "\n",
    "import flexcode\n",
    "from flexcode.regression_models import CustomModel\n",
    "\n",
    "from xgboost import XGBRegressor\n",
    "\n",
    "import cdetools\n",
    "\n",
    "import matplotlib.pyplot as plt\n",
    "import seaborn as sns\n",
    "\n",
    "from sklearn import preprocessing\n",
    "from sklearn.model_selection import train_test_split, KFold\n",
    "\n",
    "from cdetools.cde_loss import cde_loss\n",
    "\n",
    "from cdetools.hpd_coverage import hpd_coverage\n",
    "from cdetools.cdf_coverage import cdf_coverage\n",
    "from cdetools.plot_utils import plot_with_uniform_band\n"
   ]
  },
  {
   "cell_type": "markdown",
   "id": "a0a8ac99-f29f-4cc6-8535-a548c8726798",
   "metadata": {},
   "source": [
    "## Objectives\n",
    "- Develop Metrics for Testing\n",
    "\n",
    "- PanSTARRS vs SDSS\n",
    "- PanSTARRS vs SDSS U + PanSTARRS\n",
    "\n",
    "- Find whether 2MASS Filters improves model predictions (by how much)\n",
    "- Is it better to use the 2MASS Filter Magnitudes or to encode 1, 0 for detection, no detection.\n",
    "\n",
    "- Hyperparameter Tuning"
   ]
  },
  {
   "cell_type": "markdown",
   "id": "dd905b3f-1590-4d66-972d-a9323c9e899e",
   "metadata": {
    "tags": []
   },
   "source": [
    "### Data Preprocesing"
   ]
  },
  {
   "cell_type": "code",
   "execution_count": 29,
   "id": "bc587dc2-3d1e-45af-8efc-5236770be104",
   "metadata": {},
   "outputs": [
    {
     "data": {
      "text/html": [
       "<div>\n",
       "<style scoped>\n",
       "    .dataframe tbody tr th:only-of-type {\n",
       "        vertical-align: middle;\n",
       "    }\n",
       "\n",
       "    .dataframe tbody tr th {\n",
       "        vertical-align: top;\n",
       "    }\n",
       "\n",
       "    .dataframe thead th {\n",
       "        text-align: right;\n",
       "    }\n",
       "</style>\n",
       "<table border=\"1\" class=\"dataframe\">\n",
       "  <thead>\n",
       "    <tr style=\"text-align: right;\">\n",
       "      <th></th>\n",
       "      <th>SDSSID</th>\n",
       "      <th>SDSSRa</th>\n",
       "      <th>SDSSDec</th>\n",
       "      <th>PS1ID</th>\n",
       "      <th>PS1AngSep</th>\n",
       "      <th>PS1Ra</th>\n",
       "      <th>PS1Dec</th>\n",
       "      <th>TMassID</th>\n",
       "      <th>TMassAngSep</th>\n",
       "      <th>TMassRa</th>\n",
       "      <th>...</th>\n",
       "      <th>zKronMagErr</th>\n",
       "      <th>yKronMagErr</th>\n",
       "      <th>j_m</th>\n",
       "      <th>h_m</th>\n",
       "      <th>k_m</th>\n",
       "      <th>j_err</th>\n",
       "      <th>h_err</th>\n",
       "      <th>k_err</th>\n",
       "      <th>z</th>\n",
       "      <th>ZErr</th>\n",
       "    </tr>\n",
       "  </thead>\n",
       "  <tbody>\n",
       "    <tr>\n",
       "      <th>0</th>\n",
       "      <td>1237645879577739681</td>\n",
       "      <td>49.873779</td>\n",
       "      <td>1.271194</td>\n",
       "      <td>109520498737885992</td>\n",
       "      <td>0.002551</td>\n",
       "      <td>49.873782</td>\n",
       "      <td>1.271280</td>\n",
       "      <td>NaN</td>\n",
       "      <td>NaN</td>\n",
       "      <td>NaN</td>\n",
       "      <td>...</td>\n",
       "      <td>0.022784</td>\n",
       "      <td>0.040340</td>\n",
       "      <td>NaN</td>\n",
       "      <td>NaN</td>\n",
       "      <td>NaN</td>\n",
       "      <td>NaN</td>\n",
       "      <td>NaN</td>\n",
       "      <td>NaN</td>\n",
       "      <td>0.293778</td>\n",
       "      <td>0.000078</td>\n",
       "    </tr>\n",
       "    <tr>\n",
       "      <th>1</th>\n",
       "      <td>1237645942904520927</td>\n",
       "      <td>54.936769</td>\n",
       "      <td>0.216784</td>\n",
       "      <td>108260549367510630</td>\n",
       "      <td>0.001892</td>\n",
       "      <td>54.936760</td>\n",
       "      <td>0.216837</td>\n",
       "      <td>8.538872e+08</td>\n",
       "      <td>0.004722</td>\n",
       "      <td>54.936696</td>\n",
       "      <td>...</td>\n",
       "      <td>0.007639</td>\n",
       "      <td>0.009580</td>\n",
       "      <td>17.091999</td>\n",
       "      <td>16.963000</td>\n",
       "      <td>16.263</td>\n",
       "      <td>0.160</td>\n",
       "      <td>0.159</td>\n",
       "      <td>0.114</td>\n",
       "      <td>0.201237</td>\n",
       "      <td>0.000050</td>\n",
       "    </tr>\n",
       "    <tr>\n",
       "      <th>2</th>\n",
       "      <td>1237645942904914122</td>\n",
       "      <td>55.717067</td>\n",
       "      <td>0.217682</td>\n",
       "      <td>108260557170261667</td>\n",
       "      <td>0.001987</td>\n",
       "      <td>55.717017</td>\n",
       "      <td>0.217711</td>\n",
       "      <td>7.839765e+08</td>\n",
       "      <td>0.003779</td>\n",
       "      <td>55.717017</td>\n",
       "      <td>...</td>\n",
       "      <td>0.010557</td>\n",
       "      <td>0.018087</td>\n",
       "      <td>17.510000</td>\n",
       "      <td>17.331000</td>\n",
       "      <td>17.075</td>\n",
       "      <td>0.157</td>\n",
       "      <td>0.173</td>\n",
       "      <td>0.185</td>\n",
       "      <td>0.299481</td>\n",
       "      <td>0.000050</td>\n",
       "    </tr>\n",
       "    <tr>\n",
       "      <th>3</th>\n",
       "      <td>1237645942905110768</td>\n",
       "      <td>56.243814</td>\n",
       "      <td>0.216326</td>\n",
       "      <td>108260562437900045</td>\n",
       "      <td>0.001342</td>\n",
       "      <td>56.243769</td>\n",
       "      <td>0.216336</td>\n",
       "      <td>NaN</td>\n",
       "      <td>NaN</td>\n",
       "      <td>NaN</td>\n",
       "      <td>...</td>\n",
       "      <td>0.012939</td>\n",
       "      <td>0.021645</td>\n",
       "      <td>NaN</td>\n",
       "      <td>NaN</td>\n",
       "      <td>NaN</td>\n",
       "      <td>NaN</td>\n",
       "      <td>NaN</td>\n",
       "      <td>NaN</td>\n",
       "      <td>0.309728</td>\n",
       "      <td>0.000043</td>\n",
       "    </tr>\n",
       "    <tr>\n",
       "      <th>4</th>\n",
       "      <td>1237645942905504072</td>\n",
       "      <td>57.075470</td>\n",
       "      <td>0.038348</td>\n",
       "      <td>108040570754586524</td>\n",
       "      <td>0.001540</td>\n",
       "      <td>57.075460</td>\n",
       "      <td>0.038408</td>\n",
       "      <td>1.331737e+09</td>\n",
       "      <td>0.009250</td>\n",
       "      <td>57.075617</td>\n",
       "      <td>...</td>\n",
       "      <td>0.014055</td>\n",
       "      <td>0.022498</td>\n",
       "      <td>17.867001</td>\n",
       "      <td>17.394999</td>\n",
       "      <td>16.839</td>\n",
       "      <td>0.169</td>\n",
       "      <td>0.168</td>\n",
       "      <td>0.123</td>\n",
       "      <td>0.349115</td>\n",
       "      <td>0.000070</td>\n",
       "    </tr>\n",
       "  </tbody>\n",
       "</table>\n",
       "<p>5 rows × 39 columns</p>\n",
       "</div>"
      ],
      "text/plain": [
       "                SDSSID     SDSSRa   SDSSDec               PS1ID  PS1AngSep  \\\n",
       "0  1237645879577739681  49.873779  1.271194  109520498737885992   0.002551   \n",
       "1  1237645942904520927  54.936769  0.216784  108260549367510630   0.001892   \n",
       "2  1237645942904914122  55.717067  0.217682  108260557170261667   0.001987   \n",
       "3  1237645942905110768  56.243814  0.216326  108260562437900045   0.001342   \n",
       "4  1237645942905504072  57.075470  0.038348  108040570754586524   0.001540   \n",
       "\n",
       "       PS1Ra    PS1Dec       TMassID  TMassAngSep    TMassRa  ...  \\\n",
       "0  49.873782  1.271280           NaN          NaN        NaN  ...   \n",
       "1  54.936760  0.216837  8.538872e+08     0.004722  54.936696  ...   \n",
       "2  55.717017  0.217711  7.839765e+08     0.003779  55.717017  ...   \n",
       "3  56.243769  0.216336           NaN          NaN        NaN  ...   \n",
       "4  57.075460  0.038408  1.331737e+09     0.009250  57.075617  ...   \n",
       "\n",
       "   zKronMagErr  yKronMagErr        j_m        h_m     k_m  j_err  h_err  \\\n",
       "0     0.022784     0.040340        NaN        NaN     NaN    NaN    NaN   \n",
       "1     0.007639     0.009580  17.091999  16.963000  16.263  0.160  0.159   \n",
       "2     0.010557     0.018087  17.510000  17.331000  17.075  0.157  0.173   \n",
       "3     0.012939     0.021645        NaN        NaN     NaN    NaN    NaN   \n",
       "4     0.014055     0.022498  17.867001  17.394999  16.839  0.169  0.168   \n",
       "\n",
       "   k_err         z      ZErr  \n",
       "0    NaN  0.293778  0.000078  \n",
       "1  0.114  0.201237  0.000050  \n",
       "2  0.185  0.299481  0.000050  \n",
       "3    NaN  0.309728  0.000043  \n",
       "4  0.123  0.349115  0.000070  \n",
       "\n",
       "[5 rows x 39 columns]"
      ]
     },
     "execution_count": 29,
     "metadata": {},
     "output_type": "execute_result"
    }
   ],
   "source": [
    "#get data (this dataset was created by crosmatching the teddy dataset with SDSS, PanSTARRS and 2MASS)\n",
    "df = pd.read_csv(\"TeddyCustom.csv\")\n",
    "#view\n",
    "df.head()"
   ]
  },
  {
   "cell_type": "code",
   "execution_count": 30,
   "id": "e187a55f-e7a0-4692-bce7-b42455f81894",
   "metadata": {},
   "outputs": [
    {
     "data": {
      "text/plain": [
       "Index(['SDSSID', 'SDSSRa', 'SDSSDec', 'PS1ID', 'PS1AngSep', 'PS1Ra', 'PS1Dec',\n",
       "       'TMassID', 'TMassAngSep', 'TMassRa', 'TMassDec', 'SDSS_uMag',\n",
       "       'SDSS_gMag', 'SDSS_rMag', 'SDSS_iMag', 'SDSS_zMag', 'SDSS_uMagErr',\n",
       "       'SDSS_gMagErr', 'SDSS_rMagErr', 'SDSS_iMagErr', 'SDSS_zMagErr',\n",
       "       'gKronMag', 'rKronMag', 'iKronMag', 'zKronMag', 'yKronMag',\n",
       "       'gKronMagErr', 'rKronMagErr', 'iKronMagErr', 'zKronMagErr',\n",
       "       'yKronMagErr', 'j_m', 'h_m', 'k_m', 'j_err', 'h_err', 'k_err', 'z',\n",
       "       'ZErr'],\n",
       "      dtype='object')"
      ]
     },
     "execution_count": 30,
     "metadata": {},
     "output_type": "execute_result"
    }
   ],
   "source": [
    "df.columns"
   ]
  },
  {
   "cell_type": "code",
   "execution_count": 31,
   "id": "c7242e43-97ce-437c-a2ed-b8869240e5dd",
   "metadata": {},
   "outputs": [],
   "source": [
    "def preprocess_data(df):\n",
    "    #not needed for model creation\n",
    "    df = df.drop([\"SDSSRa\",\"SDSSDec\",\"PS1ID\",\"PS1Ra\",\"PS1Dec\",\n",
    "                  \"PS1AngSep\",\"TMassID\",\"TMassRa\",\"TMassDec\",\n",
    "                  \"TMassAngSep\",\"ZErr\"], axis=1)\n",
    "    #renaming for ease\n",
    "    renamed = {\"gKronMag\":\"gMag\",\"rKronMag\":\"rMag\",\"iKronMag\":\"iMag\",\n",
    "               \"zKronMag\":\"zMag\",\"yKronMag\":\"yMag\",\"j_m\":\"jMag\",\n",
    "               \"h_m\":\"hMag\",\"k_m\":\"kMag\"}\n",
    "    df = df.rename(columns=renamed)\n",
    "    return df"
   ]
  },
  {
   "cell_type": "code",
   "execution_count": 32,
   "id": "c0bf0a09-0127-458c-8e5d-1030e47ccb14",
   "metadata": {},
   "outputs": [],
   "source": [
    "data = df.pipe(preprocess_data)"
   ]
  },
  {
   "cell_type": "markdown",
   "id": "6e10e0ce-886c-4369-aaa6-3b939df00941",
   "metadata": {
    "tags": []
   },
   "source": [
    "### Feature Creation"
   ]
  },
  {
   "cell_type": "code",
   "execution_count": 33,
   "id": "814f9f4c-3472-4b3b-9b11-3c2a8c49e5d4",
   "metadata": {},
   "outputs": [
    {
     "data": {
      "text/html": [
       "<div>\n",
       "<style scoped>\n",
       "    .dataframe tbody tr th:only-of-type {\n",
       "        vertical-align: middle;\n",
       "    }\n",
       "\n",
       "    .dataframe tbody tr th {\n",
       "        vertical-align: top;\n",
       "    }\n",
       "\n",
       "    .dataframe thead th {\n",
       "        text-align: right;\n",
       "    }\n",
       "</style>\n",
       "<table border=\"1\" class=\"dataframe\">\n",
       "  <thead>\n",
       "    <tr style=\"text-align: right;\">\n",
       "      <th></th>\n",
       "      <th>SDSSID</th>\n",
       "      <th>SDSS_uMag</th>\n",
       "      <th>SDSS_gMag</th>\n",
       "      <th>SDSS_rMag</th>\n",
       "      <th>SDSS_iMag</th>\n",
       "      <th>SDSS_zMag</th>\n",
       "      <th>SDSS_uMagErr</th>\n",
       "      <th>SDSS_gMagErr</th>\n",
       "      <th>SDSS_rMagErr</th>\n",
       "      <th>SDSS_iMagErr</th>\n",
       "      <th>...</th>\n",
       "      <th>iKronMagErr</th>\n",
       "      <th>zKronMagErr</th>\n",
       "      <th>yKronMagErr</th>\n",
       "      <th>jMag</th>\n",
       "      <th>hMag</th>\n",
       "      <th>kMag</th>\n",
       "      <th>j_err</th>\n",
       "      <th>h_err</th>\n",
       "      <th>k_err</th>\n",
       "      <th>z</th>\n",
       "    </tr>\n",
       "  </thead>\n",
       "  <tbody>\n",
       "    <tr>\n",
       "      <th>0</th>\n",
       "      <td>1237645879577739681</td>\n",
       "      <td>23.00731</td>\n",
       "      <td>21.34087</td>\n",
       "      <td>19.74872</td>\n",
       "      <td>19.14171</td>\n",
       "      <td>18.80783</td>\n",
       "      <td>0.663544</td>\n",
       "      <td>0.065260</td>\n",
       "      <td>0.026834</td>\n",
       "      <td>0.026258</td>\n",
       "      <td>...</td>\n",
       "      <td>0.013203</td>\n",
       "      <td>0.022784</td>\n",
       "      <td>0.040340</td>\n",
       "      <td>NaN</td>\n",
       "      <td>NaN</td>\n",
       "      <td>NaN</td>\n",
       "      <td>NaN</td>\n",
       "      <td>NaN</td>\n",
       "      <td>NaN</td>\n",
       "      <td>0.293778</td>\n",
       "    </tr>\n",
       "    <tr>\n",
       "      <th>1</th>\n",
       "      <td>1237645942904520927</td>\n",
       "      <td>21.30060</td>\n",
       "      <td>19.02486</td>\n",
       "      <td>17.60062</td>\n",
       "      <td>17.04626</td>\n",
       "      <td>16.69721</td>\n",
       "      <td>0.180828</td>\n",
       "      <td>0.014182</td>\n",
       "      <td>0.007199</td>\n",
       "      <td>0.006362</td>\n",
       "      <td>...</td>\n",
       "      <td>0.004274</td>\n",
       "      <td>0.007639</td>\n",
       "      <td>0.009580</td>\n",
       "      <td>17.091999</td>\n",
       "      <td>16.963000</td>\n",
       "      <td>16.263</td>\n",
       "      <td>0.160</td>\n",
       "      <td>0.159</td>\n",
       "      <td>0.114</td>\n",
       "      <td>0.201237</td>\n",
       "    </tr>\n",
       "    <tr>\n",
       "      <th>2</th>\n",
       "      <td>1237645942904914122</td>\n",
       "      <td>22.28164</td>\n",
       "      <td>20.27043</td>\n",
       "      <td>18.58679</td>\n",
       "      <td>17.99218</td>\n",
       "      <td>17.72025</td>\n",
       "      <td>0.313823</td>\n",
       "      <td>0.028656</td>\n",
       "      <td>0.011433</td>\n",
       "      <td>0.009821</td>\n",
       "      <td>...</td>\n",
       "      <td>0.007739</td>\n",
       "      <td>0.010557</td>\n",
       "      <td>0.018087</td>\n",
       "      <td>17.510000</td>\n",
       "      <td>17.331000</td>\n",
       "      <td>17.075</td>\n",
       "      <td>0.157</td>\n",
       "      <td>0.173</td>\n",
       "      <td>0.185</td>\n",
       "      <td>0.299481</td>\n",
       "    </tr>\n",
       "    <tr>\n",
       "      <th>3</th>\n",
       "      <td>1237645942905110768</td>\n",
       "      <td>22.95518</td>\n",
       "      <td>20.72871</td>\n",
       "      <td>19.22448</td>\n",
       "      <td>18.66721</td>\n",
       "      <td>18.32628</td>\n",
       "      <td>0.405977</td>\n",
       "      <td>0.031762</td>\n",
       "      <td>0.014333</td>\n",
       "      <td>0.012447</td>\n",
       "      <td>...</td>\n",
       "      <td>0.008142</td>\n",
       "      <td>0.012939</td>\n",
       "      <td>0.021645</td>\n",
       "      <td>NaN</td>\n",
       "      <td>NaN</td>\n",
       "      <td>NaN</td>\n",
       "      <td>NaN</td>\n",
       "      <td>NaN</td>\n",
       "      <td>NaN</td>\n",
       "      <td>0.309728</td>\n",
       "    </tr>\n",
       "    <tr>\n",
       "      <th>4</th>\n",
       "      <td>1237645942905504072</td>\n",
       "      <td>22.78355</td>\n",
       "      <td>21.08486</td>\n",
       "      <td>18.89280</td>\n",
       "      <td>18.15070</td>\n",
       "      <td>17.72170</td>\n",
       "      <td>0.551446</td>\n",
       "      <td>0.063007</td>\n",
       "      <td>0.015269</td>\n",
       "      <td>0.011694</td>\n",
       "      <td>...</td>\n",
       "      <td>0.008425</td>\n",
       "      <td>0.014055</td>\n",
       "      <td>0.022498</td>\n",
       "      <td>17.867001</td>\n",
       "      <td>17.394999</td>\n",
       "      <td>16.839</td>\n",
       "      <td>0.169</td>\n",
       "      <td>0.168</td>\n",
       "      <td>0.123</td>\n",
       "      <td>0.349115</td>\n",
       "    </tr>\n",
       "  </tbody>\n",
       "</table>\n",
       "<p>5 rows × 28 columns</p>\n",
       "</div>"
      ],
      "text/plain": [
       "                SDSSID  SDSS_uMag  SDSS_gMag  SDSS_rMag  SDSS_iMag  SDSS_zMag  \\\n",
       "0  1237645879577739681   23.00731   21.34087   19.74872   19.14171   18.80783   \n",
       "1  1237645942904520927   21.30060   19.02486   17.60062   17.04626   16.69721   \n",
       "2  1237645942904914122   22.28164   20.27043   18.58679   17.99218   17.72025   \n",
       "3  1237645942905110768   22.95518   20.72871   19.22448   18.66721   18.32628   \n",
       "4  1237645942905504072   22.78355   21.08486   18.89280   18.15070   17.72170   \n",
       "\n",
       "   SDSS_uMagErr  SDSS_gMagErr  SDSS_rMagErr  SDSS_iMagErr  ...  iKronMagErr  \\\n",
       "0      0.663544      0.065260      0.026834      0.026258  ...     0.013203   \n",
       "1      0.180828      0.014182      0.007199      0.006362  ...     0.004274   \n",
       "2      0.313823      0.028656      0.011433      0.009821  ...     0.007739   \n",
       "3      0.405977      0.031762      0.014333      0.012447  ...     0.008142   \n",
       "4      0.551446      0.063007      0.015269      0.011694  ...     0.008425   \n",
       "\n",
       "   zKronMagErr  yKronMagErr       jMag       hMag    kMag  j_err  h_err  \\\n",
       "0     0.022784     0.040340        NaN        NaN     NaN    NaN    NaN   \n",
       "1     0.007639     0.009580  17.091999  16.963000  16.263  0.160  0.159   \n",
       "2     0.010557     0.018087  17.510000  17.331000  17.075  0.157  0.173   \n",
       "3     0.012939     0.021645        NaN        NaN     NaN    NaN    NaN   \n",
       "4     0.014055     0.022498  17.867001  17.394999  16.839  0.169  0.168   \n",
       "\n",
       "   k_err         z  \n",
       "0    NaN  0.293778  \n",
       "1  0.114  0.201237  \n",
       "2  0.185  0.299481  \n",
       "3    NaN  0.309728  \n",
       "4  0.123  0.349115  \n",
       "\n",
       "[5 rows x 28 columns]"
      ]
     },
     "execution_count": 33,
     "metadata": {},
     "output_type": "execute_result"
    }
   ],
   "source": [
    "data.head()"
   ]
  },
  {
   "cell_type": "code",
   "execution_count": 34,
   "id": "cd293776-276b-4910-a217-0ae12773e68d",
   "metadata": {},
   "outputs": [
    {
     "data": {
      "text/plain": [
       "<Axes: xlabel='rMag', ylabel='Count'>"
      ]
     },
     "execution_count": 34,
     "metadata": {},
     "output_type": "execute_result"
    },
    {
     "data": {
      "image/png": "[encoded data removed]",
      "text/plain": [
       "<Figure size 640x480 with 1 Axes>"
      ]
     },
     "metadata": {},
     "output_type": "display_data"
    }
   ],
   "source": [
    "sns.histplot(data.rMag)"
   ]
  },
  {
   "cell_type": "code",
   "execution_count": 35,
   "id": "0889f127-3800-4961-b558-a7d9f0abd1bf",
   "metadata": {},
   "outputs": [],
   "source": [
    "def SDSS_features(df):\n",
    "    #creating colour features\n",
    "    df[\"ug_SDSS\"] = df.SDSS_uMag - df.SDSS_gMag\n",
    "    df[\"gr_SDSS\"] = df.SDSS_gMag - df.SDSS_rMag\n",
    "    df[\"ri_SDSS\"] = df.SDSS_rMag - df.SDSS_iMag\n",
    "    df[\"iz_SDSS\"] = df.SDSS_iMag - df.SDSS_zMag\n",
    "    #normalising rMag\n",
    "    df[\"rMagNormSDSS\"] = preprocessing.scale(df.SDSS_rMag.values)\n",
    "    #normalising colour data\n",
    "    df[\"ugNormSDSS\"] = preprocessing.scale(df.ug_SDSS.values)\n",
    "    df[\"grNormSDSS\"] = preprocessing.scale(df.gr_SDSS.values)\n",
    "    df[\"riNormSDSS\"] = preprocessing.scale(df.ri_SDSS.values)\n",
    "    df[\"izNormSDSS\"] = preprocessing.scale(df.iz_SDSS.values)\n",
    "    return df"
   ]
  },
  {
   "cell_type": "code",
   "execution_count": 36,
   "id": "6bc0681b-4805-4be6-b005-1d7a75e4fad4",
   "metadata": {},
   "outputs": [],
   "source": [
    "def PS_features(df):\n",
    "    #creating colour features\n",
    "    df[\"ug\"] = df.SDSS_uMag - df.gMag\n",
    "    df[\"gr_PS\"] = df.gMag - df.rMag\n",
    "    df[\"ri_PS\"] = df.rMag - df.iMag\n",
    "    df[\"iz_PS\"] = df.iMag - df.zMag\n",
    "    df[\"zy_PS\"] = df.zMag - df.yMag\n",
    "    #normalising rMag\n",
    "    df[\"rMagNormPS\"] = preprocessing.scale(df.rMag.values)\n",
    "    #normalising colour data\n",
    "    df[\"ugNorm\"] = preprocessing.scale(df.ug.values)\n",
    "    df[\"grNormPS\"] = preprocessing.scale(df.gr_PS.values)\n",
    "    df[\"riNormPS\"] = preprocessing.scale(df.ri_PS.values)\n",
    "    df[\"izNormPS\"] = preprocessing.scale(df.iz_PS.values)\n",
    "    df[\"zyNormPS\"] = preprocessing.scale(df.zy_PS.values)\n",
    "    return df"
   ]
  },
  {
   "cell_type": "code",
   "execution_count": 37,
   "id": "4b4eaa86-7ed2-4adf-b815-72cfc3941ec4",
   "metadata": {},
   "outputs": [],
   "source": [
    "def twoMassMap(x):\n",
    "    \"\"\"\n",
    "    Function to map to 2mass detections to indicate if a counterpart\n",
    "    was detected during crossmatching.\n",
    "    \"\"\"\n",
    "    if pd.isna(x):\n",
    "        return 0\n",
    "    else:\n",
    "        return 1\n",
    "\n",
    "def twoMass_features(df):\n",
    "    df[\"yj\"] = df.yMag - df.jMag\n",
    "    df[\"jh\"] = df.jMag - df.hMag\n",
    "    df[\"hk\"] = df.hMag - df.kMag\n",
    "    #normalising\n",
    "    df[\"yjNorm\"] = preprocessing.scale(df.yj.values)\n",
    "    df[\"jhNorm\"] = preprocessing.scale(df.jh.values)\n",
    "    df[\"hkNorm\"] = preprocessing.scale(df.hk.values)\n",
    "    # #dummy encoding\n",
    "    df[\"jDetected\"] = df.jMag.map(twoMassMap)\n",
    "    df[\"hDetected\"] = df.hMag.map(twoMassMap)\n",
    "    df[\"kDetected\"] = df.kMag.map(twoMassMap)\n",
    "    return df"
   ]
  },
  {
   "cell_type": "code",
   "execution_count": 38,
   "id": "3534decd-0d8a-4a78-a319-d008b5bb71ee",
   "metadata": {},
   "outputs": [],
   "source": [
    "def colour_errors(df):\n",
    "    df[\"ugErr\"] = np.sqrt((df.SDSS_uMagErr)**2 + (df.gKronMagErr)**2)\n",
    "    df[\"grErr\"] = np.sqrt((df.gKronMagErr)**2 + (df.rKronMagErr)**2)\n",
    "    df[\"riErr\"] = np.sqrt((df.rKronMagErr)**2 + (df.iKronMagErr)**2)\n",
    "    df[\"izErr\"] = np.sqrt((df.iKronMagErr)**2 + (df.zKronMagErr)**2)\n",
    "    df[\"zyErr\"] = np.sqrt((df.zKronMagErr)**2 + (df.yKronMagErr)**2)\n",
    "    df[\"yjErr\"] = np.sqrt((df.yKronMagErr)**2 + (df.j_err)**2)\n",
    "    df[\"jhErr\"] = np.sqrt((df.j_err)**2 + (df.h_err)**2)\n",
    "    df[\"hkErr\"] = np.sqrt((df.h_err)**2 + (df.k_err)**2)\n",
    "    \n",
    "    df[\"rMagErrNorm\"] = preprocessing.scale(df.rKronMagErr.values)\n",
    "    df[\"ugErrNorm\"] = preprocessing.scale(df.ugErr.values)\n",
    "    df[\"grErrNorm\"] = preprocessing.scale(df.grErr.values)\n",
    "    df[\"riErrNorm\"] = preprocessing.scale(df.riErr.values)\n",
    "    df[\"izErrNorm\"] = preprocessing.scale(df.izErr.values)\n",
    "    df[\"zyErrNorm\"] = preprocessing.scale(df.zyErr.values)\n",
    "    df[\"yjErrNorm\"] = preprocessing.scale(df.yjErr.values)\n",
    "    df[\"jhErrNorm\"] = preprocessing.scale(df.jhErr.values)\n",
    "    df[\"hkErrNorm\"] = preprocessing.scale(df.hkErr.values)\n",
    "\n",
    "\n",
    "    return df"
   ]
  },
  {
   "cell_type": "code",
   "execution_count": 39,
   "id": "bf8a74b2-73f4-4572-a5be-26486d958970",
   "metadata": {},
   "outputs": [],
   "source": [
    "data = (data.pipe(SDSS_features)\n",
    "        .pipe(PS_features)\n",
    "        .pipe(twoMass_features)\n",
    "        .pipe(colour_errors))"
   ]
  },
  {
   "cell_type": "code",
   "execution_count": 40,
   "id": "9b5090ce-d5e7-41b4-9b2d-331c72ca7345",
   "metadata": {},
   "outputs": [],
   "source": [
    "data.to_csv(\"all_teddy_custom_data.csv\", index=False)"
   ]
  },
  {
   "cell_type": "code",
   "execution_count": 41,
   "id": "ef2a01fe-757a-4d74-9d0f-c40add3a8d71",
   "metadata": {},
   "outputs": [
    {
     "data": {
      "text/plain": [
       "Index(['SDSSID', 'SDSS_uMag', 'SDSS_gMag', 'SDSS_rMag', 'SDSS_iMag',\n",
       "       'SDSS_zMag', 'SDSS_uMagErr', 'SDSS_gMagErr', 'SDSS_rMagErr',\n",
       "       'SDSS_iMagErr', 'SDSS_zMagErr', 'gMag', 'rMag', 'iMag', 'zMag', 'yMag',\n",
       "       'gKronMagErr', 'rKronMagErr', 'iKronMagErr', 'zKronMagErr',\n",
       "       'yKronMagErr', 'jMag', 'hMag', 'kMag', 'j_err', 'h_err', 'k_err', 'z',\n",
       "       'ug_SDSS', 'gr_SDSS', 'ri_SDSS', 'iz_SDSS', 'rMagNormSDSS',\n",
       "       'ugNormSDSS', 'grNormSDSS', 'riNormSDSS', 'izNormSDSS', 'ug', 'gr_PS',\n",
       "       'ri_PS', 'iz_PS', 'zy_PS', 'rMagNormPS', 'ugNorm', 'grNormPS',\n",
       "       'riNormPS', 'izNormPS', 'zyNormPS', 'yj', 'jh', 'hk', 'yjNorm',\n",
       "       'jhNorm', 'hkNorm', 'jDetected', 'hDetected', 'kDetected', 'ugErr',\n",
       "       'grErr', 'riErr', 'izErr', 'zyErr', 'yjErr', 'jhErr', 'hkErr',\n",
       "       'rMagErrNorm', 'ugErrNorm', 'grErrNorm', 'riErrNorm', 'izErrNorm',\n",
       "       'zyErrNorm', 'yjErrNorm', 'jhErrNorm', 'hkErrNorm'],\n",
       "      dtype='object')"
      ]
     },
     "execution_count": 41,
     "metadata": {},
     "output_type": "execute_result"
    }
   ],
   "source": [
    "data.columns"
   ]
  },
  {
   "cell_type": "code",
   "execution_count": 42,
   "id": "4a8be720-fab7-4d43-9984-3d343d76f4ce",
   "metadata": {},
   "outputs": [],
   "source": [
    "# data = data[['rMagNormSDSS','ugNormSDSS', 'grNormSDSS', 'riNormSDSS', 'izNormSDSS',\n",
    "#              'rMagNormPS', 'ugNorm', 'grNormPS', 'riNormPS', 'izNormPS', 'zyNormPS',\n",
    "#              'yjNorm', 'jhNorm', 'hkNorm','SDSS_uMagErr', 'SDSS_gMagErr', 'SDSS_rMagErr',\n",
    "#              'SDSS_iMagErr', 'SDSS_zMagErr','gKronMagErr', 'rKronMagErr', 'iKronMagErr', 'zKronMagErr',\n",
    "#              'yKronMagErr','j_err', 'h_err', 'k_err','z']].copy()\n",
    "data = data[['rMagNormPS', 'ugNorm', 'grNormPS', 'riNormPS', 'izNormPS', 'zyNormPS',\n",
    "             'yjNorm', 'jhNorm', 'hkNorm',\n",
    "             'rMagErrNorm', 'ugErrNorm', 'grErrNorm', 'riErrNorm', 'izErrNorm',\n",
    "             'zyErrNorm', 'yjErrNorm', 'jhErrNorm', 'hkErrNorm', 'z']].copy()"
   ]
  },
  {
   "cell_type": "code",
   "execution_count": 44,
   "id": "3ed9c9a4-14c9-4033-9d3b-d65605819a1c",
   "metadata": {},
   "outputs": [
    {
     "data": {
      "text/html": [
       "<div>\n",
       "<style scoped>\n",
       "    .dataframe tbody tr th:only-of-type {\n",
       "        vertical-align: middle;\n",
       "    }\n",
       "\n",
       "    .dataframe tbody tr th {\n",
       "        vertical-align: top;\n",
       "    }\n",
       "\n",
       "    .dataframe thead th {\n",
       "        text-align: right;\n",
       "    }\n",
       "</style>\n",
       "<table border=\"1\" class=\"dataframe\">\n",
       "  <thead>\n",
       "    <tr style=\"text-align: right;\">\n",
       "      <th></th>\n",
       "      <th>rMagNormPS</th>\n",
       "      <th>ugNorm</th>\n",
       "      <th>grNormPS</th>\n",
       "      <th>riNormPS</th>\n",
       "      <th>izNormPS</th>\n",
       "      <th>zyNormPS</th>\n",
       "      <th>yjNorm</th>\n",
       "      <th>jhNorm</th>\n",
       "      <th>hkNorm</th>\n",
       "      <th>rMagErrNorm</th>\n",
       "      <th>ugErrNorm</th>\n",
       "      <th>grErrNorm</th>\n",
       "      <th>riErrNorm</th>\n",
       "      <th>izErrNorm</th>\n",
       "      <th>zyErrNorm</th>\n",
       "      <th>yjErrNorm</th>\n",
       "      <th>jhErrNorm</th>\n",
       "      <th>hkErrNorm</th>\n",
       "      <th>z</th>\n",
       "    </tr>\n",
       "  </thead>\n",
       "  <tbody>\n",
       "    <tr>\n",
       "      <th>0</th>\n",
       "      <td>0.861103</td>\n",
       "      <td>-0.525968</td>\n",
       "      <td>0.800274</td>\n",
       "      <td>0.051306</td>\n",
       "      <td>0.188682</td>\n",
       "      <td>-0.128585</td>\n",
       "      <td>NaN</td>\n",
       "      <td>NaN</td>\n",
       "      <td>NaN</td>\n",
       "      <td>0.555185</td>\n",
       "      <td>0.385955</td>\n",
       "      <td>0.538520</td>\n",
       "      <td>0.530870</td>\n",
       "      <td>0.723346</td>\n",
       "      <td>0.746253</td>\n",
       "      <td>NaN</td>\n",
       "      <td>NaN</td>\n",
       "      <td>NaN</td>\n",
       "      <td>0.293778</td>\n",
       "    </tr>\n",
       "    <tr>\n",
       "      <th>1</th>\n",
       "      <td>-1.027598</td>\n",
       "      <td>0.766316</td>\n",
       "      <td>-0.308370</td>\n",
       "      <td>-0.639780</td>\n",
       "      <td>0.552702</td>\n",
       "      <td>0.121677</td>\n",
       "      <td>-0.735974</td>\n",
       "      <td>-0.759589</td>\n",
       "      <td>2.104363</td>\n",
       "      <td>-0.753973</td>\n",
       "      <td>-0.818147</td>\n",
       "      <td>-0.726010</td>\n",
       "      <td>-0.796356</td>\n",
       "      <td>-0.782333</td>\n",
       "      <td>-0.884297</td>\n",
       "      <td>0.522271</td>\n",
       "      <td>0.402270</td>\n",
       "      <td>-0.147229</td>\n",
       "      <td>0.201237</td>\n",
       "    </tr>\n",
       "    <tr>\n",
       "      <th>2</th>\n",
       "      <td>-0.117662</td>\n",
       "      <td>0.242561</td>\n",
       "      <td>0.479117</td>\n",
       "      <td>0.101095</td>\n",
       "      <td>-1.073553</td>\n",
       "      <td>0.074206</td>\n",
       "      <td>1.198430</td>\n",
       "      <td>-0.545484</td>\n",
       "      <td>0.285779</td>\n",
       "      <td>-0.493752</td>\n",
       "      <td>-0.486317</td>\n",
       "      <td>-0.376456</td>\n",
       "      <td>-0.460925</td>\n",
       "      <td>-0.410925</td>\n",
       "      <td>-0.468498</td>\n",
       "      <td>0.470987</td>\n",
       "      <td>0.537812</td>\n",
       "      <td>0.864269</td>\n",
       "      <td>0.299481</td>\n",
       "    </tr>\n",
       "    <tr>\n",
       "      <th>3</th>\n",
       "      <td>0.414285</td>\n",
       "      <td>0.866369</td>\n",
       "      <td>-0.410426</td>\n",
       "      <td>-0.016097</td>\n",
       "      <td>-0.061049</td>\n",
       "      <td>-0.219193</td>\n",
       "      <td>NaN</td>\n",
       "      <td>NaN</td>\n",
       "      <td>NaN</td>\n",
       "      <td>-0.411200</td>\n",
       "      <td>-0.257933</td>\n",
       "      <td>-0.297500</td>\n",
       "      <td>-0.385684</td>\n",
       "      <td>-0.222686</td>\n",
       "      <td>-0.263943</td>\n",
       "      <td>NaN</td>\n",
       "      <td>NaN</td>\n",
       "      <td>NaN</td>\n",
       "      <td>0.309728</td>\n",
       "    </tr>\n",
       "    <tr>\n",
       "      <th>4</th>\n",
       "      <td>0.129931</td>\n",
       "      <td>0.417029</td>\n",
       "      <td>0.771342</td>\n",
       "      <td>-0.160947</td>\n",
       "      <td>3.109370</td>\n",
       "      <td>0.435198</td>\n",
       "      <td>-0.469799</td>\n",
       "      <td>0.709147</td>\n",
       "      <td>1.514548</td>\n",
       "      <td>-0.340004</td>\n",
       "      <td>0.107061</td>\n",
       "      <td>0.267363</td>\n",
       "      <td>-0.323130</td>\n",
       "      <td>-0.128548</td>\n",
       "      <td>-0.201266</td>\n",
       "      <td>0.755054</td>\n",
       "      <td>0.616545</td>\n",
       "      <td>0.073329</td>\n",
       "      <td>0.349115</td>\n",
       "    </tr>\n",
       "    <tr>\n",
       "      <th>...</th>\n",
       "      <td>...</td>\n",
       "      <td>...</td>\n",
       "      <td>...</td>\n",
       "      <td>...</td>\n",
       "      <td>...</td>\n",
       "      <td>...</td>\n",
       "      <td>...</td>\n",
       "      <td>...</td>\n",
       "      <td>...</td>\n",
       "      <td>...</td>\n",
       "      <td>...</td>\n",
       "      <td>...</td>\n",
       "      <td>...</td>\n",
       "      <td>...</td>\n",
       "      <td>...</td>\n",
       "      <td>...</td>\n",
       "      <td>...</td>\n",
       "      <td>...</td>\n",
       "      <td>...</td>\n",
       "    </tr>\n",
       "    <tr>\n",
       "      <th>296675</th>\n",
       "      <td>0.531571</td>\n",
       "      <td>0.131023</td>\n",
       "      <td>0.435186</td>\n",
       "      <td>0.220302</td>\n",
       "      <td>0.691551</td>\n",
       "      <td>-0.060993</td>\n",
       "      <td>NaN</td>\n",
       "      <td>NaN</td>\n",
       "      <td>NaN</td>\n",
       "      <td>-0.164268</td>\n",
       "      <td>0.259247</td>\n",
       "      <td>-0.041879</td>\n",
       "      <td>-0.178646</td>\n",
       "      <td>-0.184807</td>\n",
       "      <td>-0.089894</td>\n",
       "      <td>NaN</td>\n",
       "      <td>NaN</td>\n",
       "      <td>NaN</td>\n",
       "      <td>0.343875</td>\n",
       "    </tr>\n",
       "    <tr>\n",
       "      <th>296676</th>\n",
       "      <td>0.061897</td>\n",
       "      <td>-0.646283</td>\n",
       "      <td>-0.463727</td>\n",
       "      <td>-0.022630</td>\n",
       "      <td>-0.244771</td>\n",
       "      <td>0.479788</td>\n",
       "      <td>1.207215</td>\n",
       "      <td>-0.352794</td>\n",
       "      <td>-0.549788</td>\n",
       "      <td>-0.368917</td>\n",
       "      <td>-0.712142</td>\n",
       "      <td>-0.403725</td>\n",
       "      <td>-0.402984</td>\n",
       "      <td>-0.349329</td>\n",
       "      <td>-0.408045</td>\n",
       "      <td>0.110606</td>\n",
       "      <td>0.440921</td>\n",
       "      <td>1.103472</td>\n",
       "      <td>0.282889</td>\n",
       "    </tr>\n",
       "    <tr>\n",
       "      <th>296677</th>\n",
       "      <td>-0.266130</td>\n",
       "      <td>-0.349592</td>\n",
       "      <td>0.330729</td>\n",
       "      <td>-0.189622</td>\n",
       "      <td>0.026985</td>\n",
       "      <td>0.437365</td>\n",
       "      <td>0.055529</td>\n",
       "      <td>-0.348510</td>\n",
       "      <td>2.513955</td>\n",
       "      <td>-0.422959</td>\n",
       "      <td>-0.101388</td>\n",
       "      <td>-0.375788</td>\n",
       "      <td>-0.370579</td>\n",
       "      <td>-0.255419</td>\n",
       "      <td>-0.521624</td>\n",
       "      <td>0.692182</td>\n",
       "      <td>1.161432</td>\n",
       "      <td>0.618303</td>\n",
       "      <td>0.291777</td>\n",
       "    </tr>\n",
       "    <tr>\n",
       "      <th>296678</th>\n",
       "      <td>-0.931040</td>\n",
       "      <td>-0.642325</td>\n",
       "      <td>0.849825</td>\n",
       "      <td>-0.501962</td>\n",
       "      <td>-0.536824</td>\n",
       "      <td>-0.644198</td>\n",
       "      <td>-1.169939</td>\n",
       "      <td>0.589243</td>\n",
       "      <td>0.986177</td>\n",
       "      <td>-0.705891</td>\n",
       "      <td>-0.653127</td>\n",
       "      <td>-0.486427</td>\n",
       "      <td>-0.659956</td>\n",
       "      <td>-0.587277</td>\n",
       "      <td>-0.439755</td>\n",
       "      <td>1.245829</td>\n",
       "      <td>0.745900</td>\n",
       "      <td>-0.019158</td>\n",
       "      <td>0.296219</td>\n",
       "    </tr>\n",
       "    <tr>\n",
       "      <th>296679</th>\n",
       "      <td>1.381002</td>\n",
       "      <td>-2.679056</td>\n",
       "      <td>1.127592</td>\n",
       "      <td>1.890657</td>\n",
       "      <td>2.166266</td>\n",
       "      <td>-0.271685</td>\n",
       "      <td>NaN</td>\n",
       "      <td>NaN</td>\n",
       "      <td>NaN</td>\n",
       "      <td>1.129587</td>\n",
       "      <td>-0.117455</td>\n",
       "      <td>2.057416</td>\n",
       "      <td>1.112127</td>\n",
       "      <td>0.981841</td>\n",
       "      <td>0.586451</td>\n",
       "      <td>NaN</td>\n",
       "      <td>NaN</td>\n",
       "      <td>NaN</td>\n",
       "      <td>0.522893</td>\n",
       "    </tr>\n",
       "  </tbody>\n",
       "</table>\n",
       "<p>296680 rows × 19 columns</p>\n",
       "</div>"
      ],
      "text/plain": [
       "        rMagNormPS    ugNorm  grNormPS  riNormPS  izNormPS  zyNormPS  \\\n",
       "0         0.861103 -0.525968  0.800274  0.051306  0.188682 -0.128585   \n",
       "1        -1.027598  0.766316 -0.308370 -0.639780  0.552702  0.121677   \n",
       "2        -0.117662  0.242561  0.479117  0.101095 -1.073553  0.074206   \n",
       "3         0.414285  0.866369 -0.410426 -0.016097 -0.061049 -0.219193   \n",
       "4         0.129931  0.417029  0.771342 -0.160947  3.109370  0.435198   \n",
       "...            ...       ...       ...       ...       ...       ...   \n",
       "296675    0.531571  0.131023  0.435186  0.220302  0.691551 -0.060993   \n",
       "296676    0.061897 -0.646283 -0.463727 -0.022630 -0.244771  0.479788   \n",
       "296677   -0.266130 -0.349592  0.330729 -0.189622  0.026985  0.437365   \n",
       "296678   -0.931040 -0.642325  0.849825 -0.501962 -0.536824 -0.644198   \n",
       "296679    1.381002 -2.679056  1.127592  1.890657  2.166266 -0.271685   \n",
       "\n",
       "          yjNorm    jhNorm    hkNorm  rMagErrNorm  ugErrNorm  grErrNorm  \\\n",
       "0            NaN       NaN       NaN     0.555185   0.385955   0.538520   \n",
       "1      -0.735974 -0.759589  2.104363    -0.753973  -0.818147  -0.726010   \n",
       "2       1.198430 -0.545484  0.285779    -0.493752  -0.486317  -0.376456   \n",
       "3            NaN       NaN       NaN    -0.411200  -0.257933  -0.297500   \n",
       "4      -0.469799  0.709147  1.514548    -0.340004   0.107061   0.267363   \n",
       "...          ...       ...       ...          ...        ...        ...   \n",
       "296675       NaN       NaN       NaN    -0.164268   0.259247  -0.041879   \n",
       "296676  1.207215 -0.352794 -0.549788    -0.368917  -0.712142  -0.403725   \n",
       "296677  0.055529 -0.348510  2.513955    -0.422959  -0.101388  -0.375788   \n",
       "296678 -1.169939  0.589243  0.986177    -0.705891  -0.653127  -0.486427   \n",
       "296679       NaN       NaN       NaN     1.129587  -0.117455   2.057416   \n",
       "\n",
       "        riErrNorm  izErrNorm  zyErrNorm  yjErrNorm  jhErrNorm  hkErrNorm  \\\n",
       "0        0.530870   0.723346   0.746253        NaN        NaN        NaN   \n",
       "1       -0.796356  -0.782333  -0.884297   0.522271   0.402270  -0.147229   \n",
       "2       -0.460925  -0.410925  -0.468498   0.470987   0.537812   0.864269   \n",
       "3       -0.385684  -0.222686  -0.263943        NaN        NaN        NaN   \n",
       "4       -0.323130  -0.128548  -0.201266   0.755054   0.616545   0.073329   \n",
       "...           ...        ...        ...        ...        ...        ...   \n",
       "296675  -0.178646  -0.184807  -0.089894        NaN        NaN        NaN   \n",
       "296676  -0.402984  -0.349329  -0.408045   0.110606   0.440921   1.103472   \n",
       "296677  -0.370579  -0.255419  -0.521624   0.692182   1.161432   0.618303   \n",
       "296678  -0.659956  -0.587277  -0.439755   1.245829   0.745900  -0.019158   \n",
       "296679   1.112127   0.981841   0.586451        NaN        NaN        NaN   \n",
       "\n",
       "               z  \n",
       "0       0.293778  \n",
       "1       0.201237  \n",
       "2       0.299481  \n",
       "3       0.309728  \n",
       "4       0.349115  \n",
       "...          ...  \n",
       "296675  0.343875  \n",
       "296676  0.282889  \n",
       "296677  0.291777  \n",
       "296678  0.296219  \n",
       "296679  0.522893  \n",
       "\n",
       "[296680 rows x 19 columns]"
      ]
     },
     "execution_count": 44,
     "metadata": {},
     "output_type": "execute_result"
    }
   ],
   "source": [
    "data"
   ]
  },
  {
   "cell_type": "code",
   "execution_count": 19,
   "id": "fdeb0d7e-3090-4a3d-877d-8fcc67b63668",
   "metadata": {},
   "outputs": [
    {
     "data": {
      "image/png": "[encoded data removed]",
      "text/plain": [
       "<Figure size 640x480 with 1 Axes>"
      ]
     },
     "metadata": {},
     "output_type": "display_data"
    }
   ],
   "source": [
    "sns.histplot(data.rMagNormPS)\n",
    "plt.show()"
   ]
  },
  {
   "cell_type": "markdown",
   "id": "3c0b6a56-3804-414e-b157-7eaf37c7f5b4",
   "metadata": {},
   "source": [
    "### Visualisation"
   ]
  },
  {
   "cell_type": "code",
   "execution_count": 20,
   "id": "560563cc-b2b0-41f4-ab1b-dc33b862a8e4",
   "metadata": {},
   "outputs": [],
   "source": [
    "# sns.histplot(data=data, x=data.query(\"z<1\").z, color=\"mediumseagreen\")\n",
    "\n",
    "# sns.histplot(data=data, x=data.query(\"z<1 & jDetected==0\").z,color=\"royalblue\")\n",
    "\n",
    "# sns.histplot(data=data, x=data.query(\"z<1 & jDetected==1\").z, color=\"indianred\")\n",
    "\n",
    "# plt.show()"
   ]
  },
  {
   "cell_type": "markdown",
   "id": "c9e0352d-e24d-48f9-a4de-fd2fce7414aa",
   "metadata": {},
   "source": [
    "- Red: Detections without Missing 2MASS Information.\n",
    "- Blue: Detections with Missing 2MASS Information\n",
    "- Green: All Detections\n",
    "\n",
    "Alot of the higher spectroscopic detections have missing 2MASS data."
   ]
  },
  {
   "cell_type": "markdown",
   "id": "61b4eb71-4b17-4d8c-95e7-fc009e42f8b3",
   "metadata": {},
   "source": [
    "### Evaluation Metrics"
   ]
  },
  {
   "cell_type": "markdown",
   "id": "9431da2c-f785-44a0-be5c-6d09d7c0db46",
   "metadata": {},
   "source": [
    "Proposed Evaluation Methods:\n",
    "- How many \"true zs\" lies in a probable zone?\n",
    "- On Average how many std. dev is the true value away from the most probable region? (visualise this)"
   ]
  },
  {
   "cell_type": "code",
   "execution_count": 21,
   "id": "406b6e2b-cee5-48ce-b1f2-e2aaafb7bd5c",
   "metadata": {},
   "outputs": [],
   "source": [
    "def plot_cde(cde_list, zgrid, y_test, shape):\n",
    "    nrows = shape[0]\n",
    "    ncols = shape[1]\n",
    "    fig = plt.figure(figsize=(40, 20))\n",
    "    for i, cde in enumerate(cde_list[:(nrows*ncols),:]):\n",
    "        ax = fig.add_subplot(nrows, ncols, i + 1)\n",
    "        plt.plot(zgrid, cde, label=r'$\\hat{p}(z| x_{\\rm obs})$')\n",
    "        plt.axvline(y_test.values[i], color='red', label=r'$z_{\\rm obs}$')\n",
    "        plt.xticks(size=16)\n",
    "        plt.yticks(size=16)\n",
    "        plt.xlabel(r'Redshift $z$', size=20)\n",
    "        plt.ylabel('CDE', size=20)\n",
    "        plt.xlim(0,1)\n",
    "        plt.legend(loc='upper right', prop={'size': 20})\n",
    "    plt.show()\n",
    "    return"
   ]
  },
  {
   "cell_type": "code",
   "execution_count": 22,
   "id": "4a9afcf9-2807-44d6-a45c-4025be047344",
   "metadata": {},
   "outputs": [],
   "source": [
    "def plot_cde_range(cdes, y_test, zgrid, val_range, shape, subset=None, roi=True):\n",
    "    lwr = val_range[0]\n",
    "    upr = val_range[1]\n",
    "    nrows = shape[0]\n",
    "    ncols = shape[1]\n",
    "    \n",
    "    zVals = y_test.reset_index(drop=True)\n",
    "    if type(zVals) == pd.core.frame.DataFrame:\n",
    "        test_inds = zVals.query(\"z>@lwr & z<@upr\").index.values.tolist()\n",
    "    else:\n",
    "        zVals = zVals.to_frame()\n",
    "        test_inds = zVals.query(\"z>@lwr & z<@upr\").index.values.tolist()\n",
    "    n_tests = len(test_inds) # list of indices of zVals within target range \n",
    "\n",
    "    if subset != None:\n",
    "        #if start point > list no points to plot\n",
    "        if subset[0] > n_tests:\n",
    "            raise IndexError(\"No Values in Range\")\n",
    "            #else if end point \n",
    "        elif subset[1] > n_tests:\n",
    "            subset[1] = n_tests\n",
    "        test_inds = test_inds[subset[0]:subset[1]]\n",
    "        n_tests = len(test_inds)\n",
    "    \n",
    "    fig = plt.figure(figsize=(40, 20))\n",
    "\n",
    "    for plotNum in range(nrows*ncols):\n",
    "        if plotNum == n_tests:\n",
    "            break\n",
    "        cde = cdes[test_inds[plotNum]]\n",
    "        trueZ = zVals.iloc[test_inds[plotNum]][0]\n",
    "\n",
    "        ax = fig.add_subplot(nrows, ncols, plotNum+1)\n",
    "        \n",
    "        if roi == True:\n",
    "            plt.axvline(0.06, color='green', label=r'$GW Thresh$', alpha=0.8)\n",
    "            \n",
    "        plt.plot(z_grid, cde, label=r'$\\hat{p}(z| x_{\\rm obs})$')\n",
    "        plt.axvline(trueZ, color='red', label=r'$z_{\\rm obs}$')\n",
    "        plt.xticks(size=16)\n",
    "        plt.yticks(size=16)\n",
    "        plt.xlabel(r'Redshift $z$', size=20)\n",
    "        plt.ylabel('CDE', size=20)\n",
    "        plt.xlim(0,1)\n",
    "        plt.legend(loc='upper right', prop={'size': 20})\n",
    "    plt.show()\n",
    "    return"
   ]
  },
  {
   "cell_type": "markdown",
   "id": "4d762146-adca-481b-8ff8-df6ba9eb6eef",
   "metadata": {},
   "source": [
    "### Training Set Creation"
   ]
  },
  {
   "cell_type": "markdown",
   "id": "43730212-d783-43f9-9c9f-35d44078e122",
   "metadata": {},
   "source": [
    "- SDSS vs PanSTARRS vs SDSS U + PanSTARRS\n",
    "- Find whether 2MASS Filters improves model predictions (by how much)\n",
    "- Is it better to use the 2MASS Filter Magnitudes or to encode 1, 0 for detection, no detection."
   ]
  },
  {
   "cell_type": "code",
   "execution_count": 19,
   "id": "31358655-f89a-4390-8809-33bc88ecef21",
   "metadata": {},
   "outputs": [
    {
     "data": {
      "image/png": "[encoded data removed]",
      "text/plain": [
       "<Figure size 640x480 with 1 Axes>"
      ]
     },
     "metadata": {},
     "output_type": "display_data"
    }
   ],
   "source": [
    "sns.histplot(data.z)\n",
    "plt.xlim(0,1)\n",
    "plt.title(\"Histogram of All Spectroscopic Redshifts\")\n",
    "plt.show()"
   ]
  },
  {
   "cell_type": "code",
   "execution_count": 20,
   "id": "a505c03c-0f8c-4eb0-bc2e-27c271ce1c81",
   "metadata": {},
   "outputs": [
    {
     "data": {
      "text/plain": [
       "201"
      ]
     },
     "execution_count": 20,
     "metadata": {},
     "output_type": "execute_result"
    }
   ],
   "source": [
    "bins = np.arange(0,1.005, 0.005)\n",
    "len(bins)"
   ]
  },
  {
   "cell_type": "code",
   "execution_count": 21,
   "id": "a0412c81-10da-47fd-9d5b-36c20e324b45",
   "metadata": {},
   "outputs": [],
   "source": [
    "def undersample(bins, df, limit):\n",
    "    undersample_ind = []\n",
    "    for ind, binval in enumerate(bins[1:]):\n",
    "        sources = df.query(\"z>@bins[@ind] & z<@binval\").index.values.tolist()\n",
    "        if len(sources) > limit:\n",
    "            rand_selection = np.random.choice(sources, size=limit, replace=False)\n",
    "        else:\n",
    "            rand_selection = sources\n",
    "        undersample_ind.extend(rand_selection)\n",
    "    return undersample_ind"
   ]
  },
  {
   "cell_type": "code",
   "execution_count": 22,
   "id": "60d1a8af-e96a-48c5-ad14-e942db99b828",
   "metadata": {},
   "outputs": [],
   "source": [
    "undersample_ind = undersample(bins=bins, df=data, limit=1000 )\n"
   ]
  },
  {
   "cell_type": "code",
   "execution_count": 23,
   "id": "76124145-aae0-4bdb-a767-e798e44af36f",
   "metadata": {},
   "outputs": [],
   "source": [
    "old_data = data\n",
    "data = data[data.index.isin(undersample_ind)].reset_index(drop=True)"
   ]
  },
  {
   "cell_type": "code",
   "execution_count": 24,
   "id": "a44c3fdd-4b52-45b8-a9a3-099947a1caa0",
   "metadata": {},
   "outputs": [],
   "source": [
    "old_data.to_csv(\"Teddy_custom.csv\", index=False)\n",
    "data.to_csv(\"Teddy_custom_undersamp.csv\", index=False)"
   ]
  },
  {
   "cell_type": "code",
   "execution_count": 25,
   "id": "97199fd9-a240-4a91-86f4-b87eddfe61d0",
   "metadata": {},
   "outputs": [
    {
     "data": {
      "image/png": "[encoded data removed]",
      "text/plain": [
       "<Figure size 640x480 with 1 Axes>"
      ]
     },
     "metadata": {},
     "output_type": "display_data"
    }
   ],
   "source": [
    "sns.histplot(data.z)\n",
    "# plt.xlim(0,1)\n",
    "plt.title(\"Histogram of Undersampled Set of Spectroscopic Redshifts\")\n",
    "plt.show()"
   ]
  },
  {
   "cell_type": "code",
   "execution_count": 30,
   "id": "7efa7ed6-e4bf-4990-be7e-26028abed15a",
   "metadata": {},
   "outputs": [
    {
     "data": {
      "text/plain": [
       "113324"
      ]
     },
     "execution_count": 30,
     "metadata": {},
     "output_type": "execute_result"
    }
   ],
   "source": [
    "len(data)"
   ]
  },
  {
   "cell_type": "markdown",
   "id": "99317053-6ee2-49e2-9e34-5fee8bf63ac7",
   "metadata": {},
   "source": [
    "# The Dataset is now ready for Machine Learning"
   ]
  },
  {
   "cell_type": "code",
   "execution_count": 34,
   "id": "558f4347-3c1a-421f-a7f8-f747be918a8a",
   "metadata": {},
   "outputs": [],
   "source": [
    "test_size = 0.4 #60/40 train/test split\n",
    "random_state = 42"
   ]
  },
  {
   "cell_type": "code",
   "execution_count": 35,
   "id": "b07c3ea5-d9ea-4437-ac9c-9b9e8711dd97",
   "metadata": {},
   "outputs": [],
   "source": [
    "x = data.drop(\"z\", axis=1)\n",
    "y = data[[\"z\"]]"
   ]
  },
  {
   "cell_type": "code",
   "execution_count": 36,
   "id": "bf2ba10f-779d-4cd4-9939-b2d6e2b9a13d",
   "metadata": {},
   "outputs": [],
   "source": [
    "x_train, x_test, y_train, y_test = train_test_split(\n",
    "    x, y, test_size=test_size, random_state=random_state)"
   ]
  },
  {
   "cell_type": "code",
   "execution_count": null,
   "id": "7c172b62-af65-4645-ab1d-fa54573e6872",
   "metadata": {},
   "outputs": [],
   "source": [
    "# SDSS_data = x_train[[\"rMagNormSDSS\",\"ugNormSDSS\",\"grNormSDSS\",\"riNormSDSS\",\"izNormSDSS\"]]\n",
    "# SDSS_colors =  x_train[[\"ugNormSDSS\",\"grNormSDSS\",\"riNormSDSS\",\"izNormSDSS\"]]\n",
    "# PanSTARRS_data = x_train[[\"rMagNormPS\",\"grNormPS\",\"riNormPS\",\"izNormPS\",\"zyNormPS\"]]\n",
    "# SD_PS_data = x_train[[\"rMagNormPS\",\"ugNorm\",\"grNormPS\",\"riNormPS\",\"izNormPS\",\"zyNormPS\"]]\n",
    "# all_data = x_train[[\"rMagNormPS\",\"ugNorm\",\"grNormPS\",\"riNormPS\",\"izNormPS\",\"zyNormPS\", \"yjNorm\", \"jhNorm\", \"hkNorm\"]]\n",
    "# alt_data = x_train[[\"rMagNormPS\",\"ugNorm\",\"grNormPS\",\"riNormPS\",\"izNormPS\",\"zyNormPS\", \"jDetected\",\"hDetected\",\"kDetected\"]]\n",
    "\n",
    "# SDSS_data_test = x_test[[\"rMagNormSDSS\",\"ugNormSDSS\",\"grNormSDSS\",\"riNormSDSS\",\"izNormSDSS\"]]\n",
    "# SDSS_colors_test =  x_test[[\"ugNormSDSS\",\"grNormSDSS\",\"riNormSDSS\",\"izNormSDSS\"]]\n",
    "# PanSTARRS_data_test = x_test[[\"rMagNormPS\",\"grNormPS\",\"riNormPS\",\"izNormPS\",\"zyNormPS\"]]\n",
    "# SD_PS_data_test = x_test[[\"rMagNormPS\",\"ugNorm\",\"grNormPS\",\"riNormPS\",\"izNormPS\",\"zyNormPS\"]]\n",
    "# all_data_test = x_test[[\"rMagNormPS\",\"ugNorm\",\"grNormPS\",\"riNormPS\",\"izNormPS\",\"zyNormPS\", \"yjNorm\", \"jhNorm\", \"hkNorm\"]]\n",
    "# alt_data_test = x_test[[\"rMagNormPS\",\"ugNorm\",\"grNormPS\",\"riNormPS\",\"izNormPS\",\"zyNormPS\", \"jDetected\",\"hDetected\",\"kDetected\"]]\n"
   ]
  },
  {
   "cell_type": "markdown",
   "id": "d04097d8-ea17-4ba8-a10b-d919b54e2744",
   "metadata": {
    "tags": []
   },
   "source": [
    "### Model Training SDSS U + PS1 Info"
   ]
  },
  {
   "cell_type": "code",
   "execution_count": null,
   "id": "8d1fba9c-8ac6-4a56-8561-79af78d41a1d",
   "metadata": {},
   "outputs": [],
   "source": [
    "sdps_xtrain = x_train[['rMagNormPS', 'ugNorm', 'grNormPS', 'riNormPS', 'izNormPS', 'zyNormPS']]\n",
    "sdps_xtest = x_test[['rMagNormPS', 'ugNorm', 'grNormPS', 'riNormPS', 'izNormPS', 'zyNormPS']]"
   ]
  },
  {
   "cell_type": "code",
   "execution_count": 39,
   "id": "d8dd6078-0a2b-4789-90b0-f5ee6fd13c61",
   "metadata": {},
   "outputs": [],
   "source": [
    "model = flexcode.FlexCodeModel(CustomModel, max_basis=31, basis_system=\"cosine\", custom_model=XGBRegressor)"
   ]
  },
  {
   "cell_type": "code",
   "execution_count": null,
   "id": "15bebfe5-275a-4049-b24e-4b15c02a6c2a",
   "metadata": {},
   "outputs": [],
   "source": [
    "model.fit(sdps_xtrain, y_train.values)"
   ]
  },
  {
   "cell_type": "code",
   "execution_count": null,
   "id": "78e8653d-f0f2-436d-b15a-a7e6686377f1",
   "metadata": {
    "tags": []
   },
   "outputs": [],
   "source": [
    "n_grid = 1000\n",
    "\n",
    "cdes, z_grid = model.predict(sdps_xtest, n_grid=n_grid)\n"
   ]
  },
  {
   "cell_type": "code",
   "execution_count": null,
   "id": "31fd9892-a85f-4cb6-b3f0-0e51688a74c0",
   "metadata": {},
   "outputs": [],
   "source": [
    "cde_loss_val, std_cde_loss = cde_loss(cdes, z_grid, y_test.values)\n"
   ]
  },
  {
   "cell_type": "code",
   "execution_count": null,
   "id": "4ca4f7c2-7261-4faf-9180-b864b24c65f8",
   "metadata": {},
   "outputs": [],
   "source": [
    "print('CDE Loss PS     : %4.2f \\pm %.2f' % (cde_loss_val, std_cde_loss))\n"
   ]
  },
  {
   "cell_type": "code",
   "execution_count": null,
   "id": "b4fa6833-6837-4754-8f89-5eedcd0ffb9f",
   "metadata": {
    "tags": []
   },
   "outputs": [],
   "source": [
    "plot_cde_range(cdes, y_test, z_grid, [0,0.06], [4,3])\n",
    "print(\"Next Plot\")\n",
    "plot_cde_range(cdes, y_test, z_grid, [0,1], [4,3], subset=[11,24])"
   ]
  },
  {
   "cell_type": "code",
   "execution_count": null,
   "id": "a807764c-a7e7-4b07-87f3-afb57c6fdea1",
   "metadata": {},
   "outputs": [],
   "source": [
    "z_grid = np.linspace(y_train.min(), y_train.max(), n_grid)\n",
    "pit_values = cdf_coverage(cdes, z_grid, y_test.values)\n",
    "hpd_values = hpd_coverage(cdes, z_grid, y_test.values)"
   ]
  },
  {
   "cell_type": "code",
   "execution_count": null,
   "id": "6f292845-6c73-47d4-be82-08b41f360465",
   "metadata": {},
   "outputs": [],
   "source": [
    "sns.histplot(pit_values)\n",
    "plt.title(\"PIT Values\")\n",
    "plt.show()"
   ]
  },
  {
   "cell_type": "code",
   "execution_count": null,
   "id": "d2882182-cdd2-4497-b0f8-1dc678c23e88",
   "metadata": {},
   "outputs": [],
   "source": [
    "sns.histplot(hpd_values)\n",
    "plt.title(\"HPD Values\")\n",
    "plt.show()"
   ]
  },
  {
   "cell_type": "markdown",
   "id": "56194094-e562-4773-863d-d79319115d91",
   "metadata": {
    "tags": []
   },
   "source": [
    "### Model Training 2MASS Low Error"
   ]
  },
  {
   "cell_type": "markdown",
   "id": "1b9e100f-c837-41d8-bd10-3cb522bdd572",
   "metadata": {},
   "source": [
    "Using same features as above, only adding detections with 2Mass errors below 0.05"
   ]
  },
  {
   "cell_type": "code",
   "execution_count": null,
   "id": "3a7d13fb-7765-4e24-adbd-bfcbb23e9aa6",
   "metadata": {},
   "outputs": [],
   "source": [
    "data[\"yj_err\"] = np.sqrt((data.yKronMagErr)**2 + (data.j_err)**2)\n",
    "data[\"jh_err\"] = np.sqrt((data.j_err)**2 + (data.h_err)**2)\n",
    "data[\"hk_err\"] = np.sqrt((data.h_err)**2 + (data.k_err)**2)\n"
   ]
  },
  {
   "cell_type": "code",
   "execution_count": null,
   "id": "5f8c8aef-5cb3-42a6-803f-a4b51b05b6e7",
   "metadata": {},
   "outputs": [],
   "source": [
    "err_data = data.dropna()"
   ]
  },
  {
   "cell_type": "code",
   "execution_count": null,
   "id": "76ab03b2-40ea-4d1e-ac5d-d1a9185ad0d9",
   "metadata": {},
   "outputs": [],
   "source": [
    "frames = [err_data.yj_err, err_data.jh_err, err_data.hk_err]\n",
    "err_df = pd.concat(frames, keys=[\"yj_err\", \"jh_err\", \"hk_err\"]).to_frame().reset_index().rename(columns={0:\"err_val\",\"level_0\":\"err_type\"}).drop(\"level_1\", axis=1)\n",
    "sns.histplot(data=err_df, x=err_df.err_val, hue=\"err_type\", multiple=\"stack\")\n",
    "plt.title(\"Stacked Histogram of 2MASS Colour Errors\")\n",
    "plt.show()"
   ]
  },
  {
   "cell_type": "code",
   "execution_count": null,
   "id": "45c913b3-3cac-4dad-9363-a25af791f8d0",
   "metadata": {},
   "outputs": [],
   "source": [
    "thresh = 0.07\n",
    "low_err_data = err_data.query(\"yj_err <= @thresh &\\\n",
    "                               jh_err <= @thresh &\\\n",
    "                               hk_err <= @thresh\")\n",
    "low_err_data.columns"
   ]
  },
  {
   "cell_type": "code",
   "execution_count": null,
   "id": "c1648eaa-3918-4d93-83c7-dbb43f8b1d40",
   "metadata": {},
   "outputs": [],
   "source": [
    "x = low_err_data.drop(\"z\", axis=1)\n",
    "y = low_err_data[\"z\"]"
   ]
  },
  {
   "cell_type": "code",
   "execution_count": null,
   "id": "523b9440-97d8-4d6c-b8ee-1311b7396d84",
   "metadata": {},
   "outputs": [],
   "source": [
    "sns.histplot(y)\n",
    "plt.xlim(0,0.2)"
   ]
  },
  {
   "cell_type": "code",
   "execution_count": null,
   "id": "76ffd28a-fe0b-4f93-a11c-e836276ebc2e",
   "metadata": {},
   "outputs": [],
   "source": [
    "x_train, x_test, y_train, y_test = train_test_split(\n",
    "    x, y, test_size=test_size, random_state=random_state)"
   ]
  },
  {
   "cell_type": "code",
   "execution_count": null,
   "id": "7b587adb-716f-4dcf-a2eb-d3ab3df0d07e",
   "metadata": {},
   "outputs": [],
   "source": [
    "x_train_no_err = x_train[['rMagNormPS', 'ugNorm', 'grNormPS', 'riNormPS', 'izNormPS', 'zyNormPS']]\n",
    "x_test_no_err = x_test[['rMagNormPS', 'ugNorm', 'grNormPS', 'riNormPS', 'izNormPS', 'zyNormPS']]\n",
    "\n",
    "x_train_err = x_train[['rMagNormPS', 'ugNorm', 'grNormPS', 'riNormPS', 'izNormPS', 'zyNormPS','yjNorm','jhNorm','hkNorm']]\n",
    "x_test_err = x_test[['rMagNormPS', 'ugNorm', 'grNormPS', 'riNormPS', 'izNormPS', 'zyNormPS','yjNorm','jhNorm','hkNorm']]\n"
   ]
  },
  {
   "cell_type": "code",
   "execution_count": null,
   "id": "a64571b8-3451-4cb5-8e82-d5073b431ce0",
   "metadata": {},
   "outputs": [],
   "source": [
    "model_no_err = flexcode.FlexCodeModel(CustomModel, max_basis=31, basis_system=\"cosine\", custom_model=XGBRegressor)\n",
    "model_err = flexcode.FlexCodeModel(CustomModel, max_basis=31, basis_system=\"cosine\", custom_model=XGBRegressor, regression_params={\"importance_type\":\"gain\"})"
   ]
  },
  {
   "cell_type": "code",
   "execution_count": null,
   "id": "c888312e-a81e-48c7-82df-4978600dfcc7",
   "metadata": {},
   "outputs": [],
   "source": [
    "model_no_err.fit(x_train_no_err, y_train.values)\n",
    "model_err.fit(x_train_err, y_train.values)"
   ]
  },
  {
   "cell_type": "code",
   "execution_count": null,
   "id": "698fe7d1-0c2e-4349-a066-f02dfe8d7138",
   "metadata": {},
   "outputs": [],
   "source": [
    "n_grid = 1000\n",
    "cdes_no_err, z_grid_no_err = model_no_err.predict(x_test_no_err, n_grid=n_grid)\n",
    "cdes_err, z_grid_err = model_err.predict(x_test_err, n_grid=n_grid)"
   ]
  },
  {
   "cell_type": "code",
   "execution_count": null,
   "id": "57fb8d3e-a756-4f87-92e0-05176f18a4ae",
   "metadata": {},
   "outputs": [],
   "source": [
    "cde_noerr_loss, std_cde_noerr_loss = cde_loss(cdes_no_err, z_grid_no_err, y_test.values)\n",
    "cde_err_loss, std_cde_err_loss = cde_loss(cdes_err, z_grid_err, y_test.values)\n"
   ]
  },
  {
   "cell_type": "code",
   "execution_count": null,
   "id": "046d1c94-9baa-4eed-81d4-56e8ceef2149",
   "metadata": {},
   "outputs": [],
   "source": [
    "print('CDE Loss No 2MASS Model     : %4.2f \\pm %.2f' % (cde_noerr_loss, std_cde_noerr_loss))\n",
    "print('CDE Loss 2MASS Model     : %4.2f \\pm %.2f' % (cde_err_loss, std_cde_err_loss))"
   ]
  },
  {
   "cell_type": "markdown",
   "id": "f19170f8-e95f-4768-9095-634f017b55fd",
   "metadata": {},
   "source": [
    "### Sample CDES for Model No 2MASS Features"
   ]
  },
  {
   "cell_type": "code",
   "execution_count": null,
   "id": "32aad0b0-3332-4142-a05d-26e6cc1ae303",
   "metadata": {},
   "outputs": [],
   "source": [
    "plot_cde_range(cdes_no_err, y_test, z_grid_no_err, [0,0.06], [4,3])\n",
    "print(\"Next Plot\")\n",
    "plot_cde_range(cdes_no_err, y_test, z_grid_no_err, [0.06,10], [4,3], subset=[11,24])"
   ]
  },
  {
   "cell_type": "markdown",
   "id": "df693a07-50eb-4854-a08f-17ac3e6db78b",
   "metadata": {},
   "source": [
    "### Sample CDES for Model with 2MASS Features"
   ]
  },
  {
   "cell_type": "code",
   "execution_count": null,
   "id": "4256a804-12a7-4498-85c5-7f7599edbe99",
   "metadata": {},
   "outputs": [],
   "source": [
    "plot_cde_range(cdes_err, y_test, z_grid_err, [0,0.06], [4,3])\n",
    "print(\"Next Plot\")\n",
    "plot_cde_range(cdes_err, y_test, z_grid_err, [0.06,10], [4,3], subset=[11,24])"
   ]
  },
  {
   "cell_type": "code",
   "execution_count": null,
   "id": "f022c891-502b-49fe-9463-30afd1cd29bb",
   "metadata": {},
   "outputs": [],
   "source": [
    "from xgboost import plot_importance, plot_tree\n",
    "\n",
    "plot_tree(model_err.model.models.estimators_[8])\n",
    "fig = plt.gcf()\n",
    "fig.set_size_inches(75, 50)\n",
    "\n",
    "plt.figure()\n",
    "plot_importance(model_err.model.models.estimators_[8])"
   ]
  },
  {
   "cell_type": "code",
   "execution_count": null,
   "id": "c13d30e6-de78-4c46-aa35-7be6c0616a47",
   "metadata": {},
   "outputs": [],
   "source": [
    "z_grid = np.linspace(y_train.min(), y_train.max(), n_grid)\n",
    "pit_values = cdf_coverage(cdes_no_err, z_grid, y_test.values)\n",
    "hpd_values = hpd_coverage(cdes_no_err, z_grid, y_test.values)\n",
    "sns.histplot(pit_values)\n",
    "plt.title(\"PIT Values No 2MASS\")\n",
    "plt.show()\n",
    "sns.histplot(hpd_values)\n",
    "plt.title(\"HPD Values No 2MASS\")\n",
    "plt.show()"
   ]
  },
  {
   "cell_type": "code",
   "execution_count": null,
   "id": "00b91f46-9f9a-4266-bded-4143d4167f6d",
   "metadata": {},
   "outputs": [],
   "source": [
    "z_grid = np.linspace(y_train.min(), y_train.max(), n_grid)\n",
    "pit_values = cdf_coverage(cdes_err, z_grid, y_test.values)\n",
    "hpd_values = hpd_coverage(cdes_err, z_grid, y_test.values)\n",
    "sns.histplot(pit_values)\n",
    "plt.title(\"PIT Values 2MASS\")\n",
    "plt.show()\n",
    "sns.histplot(hpd_values)\n",
    "plt.title(\"HPD Values 2MASS\")\n",
    "plt.show()"
   ]
  }
 ],
 "metadata": {
  "kernelspec": {
   "display_name": "Python 3 (ipykernel)",
   "language": "python",
   "name": "python3"
  },
  "language_info": {
   "codemirror_mode": {
    "name": "ipython",
    "version": 3
   },
   "file_extension": ".py",
   "mimetype": "text/x-python",
   "name": "python",
   "nbconvert_exporter": "python",
   "pygments_lexer": "ipython3",
   "version": "3.10.12"
  }
 },
 "nbformat": 4,
 "nbformat_minor": 5
}
